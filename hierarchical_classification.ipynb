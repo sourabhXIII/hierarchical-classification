{
 "cells": [
  {
   "cell_type": "markdown",
   "metadata": {},
   "source": [
    "## Problem\n",
    "Build a Deep Learning classification model that takes the hierarchy into consideration.\n",
    "Take any 4 categories from the dataset (100 images each) such that there is a hierarchical relationship between them for eg:\n",
    "\n",
    "Animals\n",
    "- Dog\n",
    "- Cat\n",
    "\n",
    "~~Flowers~~ Fruits\n",
    "- ~~Rose~~ Grapes\n",
    "- ~~Sunflower~~ Pear\n",
    "\n",
    "Build a Classification model for the above 4 categories, such that the penalty of inter-category prediction is higher."
   ]
  },
  {
   "cell_type": "markdown",
   "metadata": {},
   "source": [
    "## Import stuff"
   ]
  },
  {
   "cell_type": "code",
   "execution_count": 1,
   "metadata": {
    "ExecuteTime": {
     "end_time": "2019-07-16T05:34:14.129359Z",
     "start_time": "2019-07-16T05:34:10.445395Z"
    }
   },
   "outputs": [
    {
     "name": "stderr",
     "output_type": "stream",
     "text": [
      "Using TensorFlow backend.\n"
     ]
    }
   ],
   "source": [
    "import os\n",
    "import numpy as np\n",
    "import sys\n",
    "from PIL import Image\n",
    "import PIL.ImageOps\n",
    "\n",
    "from textwrap import wrap\n",
    "from matplotlib import pyplot as plt\n",
    "import matplotlib.cm as cm\n",
    "import random\n",
    "\n",
    "import keras\n",
    "from keras import layers as L\n",
    "from keras import optimizers as opt\n",
    "from keras.preprocessing.image import ImageDataGenerator\n",
    "\n",
    "# for reproducibility\n",
    "from numpy.random import seed\n",
    "seed(41)\n",
    "from tensorflow import set_random_seed\n",
    "set_random_seed(41)"
   ]
  },
  {
   "cell_type": "markdown",
   "metadata": {
    "ExecuteTime": {
     "end_time": "2019-07-15T10:36:46.332600Z",
     "start_time": "2019-07-15T10:36:46.330594Z"
    },
    "heading_collapsed": true
   },
   "source": [
    "## Extract and save the image files (28x28) from .npy files"
   ]
  },
  {
   "cell_type": "markdown",
   "metadata": {
    "hidden": true
   },
   "source": [
    "Do not run next __two__ code cell. Data has already been prepared and kept in folders"
   ]
  },
  {
   "cell_type": "markdown",
   "metadata": {
    "hidden": true
   },
   "source": [
    "### Split the npy file and save images"
   ]
  },
  {
   "cell_type": "code",
   "execution_count": null,
   "metadata": {
    "ExecuteTime": {
     "end_time": "2019-07-15T11:51:33.847612Z",
     "start_time": "2019-07-15T11:51:32.753433Z"
    },
    "hidden": true
   },
   "outputs": [],
   "source": [
    "# WARNING: this cell needed to run only once. After downloading the npy files\n",
    "\n",
    "# used code from: https://github.com/C-Aniruddh/RapidDraw/blob/in-dev/processing/process_all.py\n",
    "number_images = 100; # Number of images in each category\n",
    "img_width, img_height = 28, 28\n",
    "\n",
    "\n",
    "npy_dir = '../data_dump/'\n",
    "out_dir = './data/'\n",
    "npy_files = [f for f in os.listdir(npy_dir) if os.path.isfile(os.path.join(npy_dir, f))]\n",
    "print('Available classes:')\n",
    "print(npy_files)\n",
    "\n",
    "categories = []\n",
    "\n",
    "for x in npy_files:\n",
    "    category_split = x.split('.')\n",
    "    category = category_split[0]\n",
    "    categories.append(category)\n",
    "    \n",
    "print('Data from following classes will be unpacked:')\n",
    "print(categories)\n",
    "\n",
    "for y in categories:\n",
    "    if not os.path.exists(os.path.join(out_dir, y)):\n",
    "        os.makedirs(os.path.join(out_dir, y))\n",
    "\n",
    "index_cat = 0\n",
    "for z in npy_files:\n",
    "    print('Processing file', z)\n",
    "    images = np.load(os.path.join(npy_dir, z))\n",
    "    print('Saving in', categories[index_cat])\n",
    "    number_imgs = range(0, number_images, 1)\n",
    "    for a in number_imgs:\n",
    "        print('\\t Processing Image', a+1)\n",
    "        file_name = '%s.jpg' % (a+1)\n",
    "        file_path = os.path.join(out_dir, categories[index_cat], file_name)\n",
    "        img = images[a].reshape(img_width, img_height)\n",
    "        f_img = Image.fromarray(img)\n",
    "        inverted_image = PIL.ImageOps.invert(f_img)\n",
    "        inverted_image.save(file_path, 'JPEG')\n",
    "    index_cat = index_cat + 1"
   ]
  },
  {
   "cell_type": "markdown",
   "metadata": {
    "hidden": true
   },
   "source": [
    "### Have a look at few training images"
   ]
  },
  {
   "cell_type": "code",
   "execution_count": 2,
   "metadata": {
    "ExecuteTime": {
     "end_time": "2019-07-16T05:35:40.685549Z",
     "start_time": "2019-07-16T05:35:40.355970Z"
    },
    "hidden": true
   },
   "outputs": [
    {
     "ename": "NameError",
     "evalue": "name 'out_dir' is not defined",
     "output_type": "error",
     "traceback": [
      "\u001b[1;31m---------------------------------------------------------------------------\u001b[0m",
      "\u001b[1;31mNameError\u001b[0m                                 Traceback (most recent call last)",
      "\u001b[1;32m<ipython-input-2-6819dda70593>\u001b[0m in \u001b[0;36m<module>\u001b[1;34m\u001b[0m\n\u001b[0;32m      1\u001b[0m \u001b[1;31m# randomly picks 4 images per class\u001b[0m\u001b[1;33m\u001b[0m\u001b[1;33m\u001b[0m\u001b[1;33m\u001b[0m\u001b[0m\n\u001b[0;32m      2\u001b[0m \u001b[0mr\u001b[0m\u001b[1;33m,\u001b[0m \u001b[0mc\u001b[0m \u001b[1;33m=\u001b[0m \u001b[1;36m2\u001b[0m\u001b[1;33m,\u001b[0m \u001b[1;36m2\u001b[0m\u001b[1;33m\u001b[0m\u001b[1;33m\u001b[0m\u001b[0m\n\u001b[1;32m----> 3\u001b[1;33m \u001b[1;32mfor\u001b[0m \u001b[0md\u001b[0m \u001b[1;32min\u001b[0m \u001b[0mos\u001b[0m\u001b[1;33m.\u001b[0m\u001b[0mlistdir\u001b[0m\u001b[1;33m(\u001b[0m\u001b[0mout_dir\u001b[0m\u001b[1;33m)\u001b[0m\u001b[1;33m:\u001b[0m\u001b[1;33m\u001b[0m\u001b[1;33m\u001b[0m\u001b[0m\n\u001b[0m\u001b[0;32m      4\u001b[0m     \u001b[0mprint\u001b[0m\u001b[1;33m(\u001b[0m\u001b[0md\u001b[0m\u001b[1;33m)\u001b[0m\u001b[1;33m\u001b[0m\u001b[1;33m\u001b[0m\u001b[0m\n\u001b[0;32m      5\u001b[0m     \u001b[0mfig\u001b[0m\u001b[1;33m,\u001b[0m \u001b[0maxs\u001b[0m \u001b[1;33m=\u001b[0m \u001b[0mplt\u001b[0m\u001b[1;33m.\u001b[0m\u001b[0msubplots\u001b[0m\u001b[1;33m(\u001b[0m\u001b[0mr\u001b[0m\u001b[1;33m,\u001b[0m \u001b[0mc\u001b[0m\u001b[1;33m)\u001b[0m\u001b[1;33m\u001b[0m\u001b[1;33m\u001b[0m\u001b[0m\n",
      "\u001b[1;31mNameError\u001b[0m: name 'out_dir' is not defined"
     ]
    }
   ],
   "source": [
    "# randomly picks 4 images per class\n",
    "r, c = 2, 2\n",
    "for d in os.listdir(out_dir):\n",
    "    print(d)\n",
    "    fig, axs = plt.subplots(r, c)\n",
    "    cnt = 1\n",
    "    for i in range(r):\n",
    "        for j in range(c):\n",
    "            img = plt.imread(out_dir+d+'/'+str(random.randint(1, 100))+'.jpg')\n",
    "            axs[i, j].imshow(img, cmap=cm.gray)\n",
    "            axs[i, j].axis('off')\n",
    "            cnt += 1\n",
    "    plt.show()\n",
    "    plt.close()"
   ]
  },
  {
   "cell_type": "markdown",
   "metadata": {
    "ExecuteTime": {
     "end_time": "2019-07-16T04:48:51.019704Z",
     "start_time": "2019-07-16T04:48:51.017700Z"
    }
   },
   "source": [
    "## Highlevel idea"
   ]
  },
  {
   "cell_type": "markdown",
   "metadata": {},
   "source": [
    "I chose to use a neural network to build the classifier. The reason is two-fold:\n",
    "- CNN based neural networks are historically proven to be very strong at image classification, identification tasks.\n",
    "- The test is on Deep Learning! ;-)\n",
    "\n",
    "So, My idea is to build a multi-task model. First it will try to classify images into $animal$ or $fruit$ classes and then it will further classify among the four classes ($dog$, $cat$, $grapes$, $pear$).\n",
    "The reason behind using a multi-task model is \n",
    "- I can use different loss weights for different tasks. A higher weight for animal vs fruit classification loss and a comparatively lower weight to 4 class classification loss.\n",
    "- This particular model construction captures the hierarchical nature of the problem nicely.\n"
   ]
  },
  {
   "cell_type": "markdown",
   "metadata": {},
   "source": [
    "### Data description"
   ]
  },
  {
   "cell_type": "markdown",
   "metadata": {},
   "source": [
    "Pulled out first 100 samples from each class for training and next 100 from each class for validation/testing.\n",
    "The test data is completely unseen."
   ]
  },
  {
   "cell_type": "markdown",
   "metadata": {},
   "source": [
    "## Create and verify the data generator"
   ]
  },
  {
   "cell_type": "markdown",
   "metadata": {},
   "source": [
    "Why I need a generator when $4*100*(28*28) = 1.2MB$ would fit nicely in computer memory?\n",
    "- It is good to be prepare a pipeline which can handle large size data\n",
    "- To show off!"
   ]
  },
  {
   "cell_type": "code",
   "execution_count": 3,
   "metadata": {
    "ExecuteTime": {
     "end_time": "2019-07-16T05:37:12.207981Z",
     "start_time": "2019-07-16T05:37:12.204975Z"
    }
   },
   "outputs": [],
   "source": [
    "# few constants\n",
    "data_path = './data/'\n",
    "val_data_path = './val_data/'\n",
    "img_width, img_height, n_channel = 28, 28, 3\n",
    "img_shape = (img_width, img_height)\n",
    "batch_size = 32"
   ]
  },
  {
   "cell_type": "code",
   "execution_count": 4,
   "metadata": {
    "ExecuteTime": {
     "end_time": "2019-07-16T05:37:13.125337Z",
     "start_time": "2019-07-16T05:37:12.907718Z"
    }
   },
   "outputs": [
    {
     "name": "stdout",
     "output_type": "stream",
     "text": [
      "Found 400 images belonging to 4 classes.\n",
      "Found 400 images belonging to 4 classes.\n"
     ]
    }
   ],
   "source": [
    "# create a generator\n",
    "datagen = ImageDataGenerator(\n",
    "    rescale=1./255,\n",
    "    rotation_range=20,\n",
    "    width_shift_range=0.2,\n",
    "    height_shift_range=0.2,\n",
    "    horizontal_flip=True)\n",
    "train_generator = datagen.flow_from_directory(data_path, target_size=(img_width, img_height)\n",
    "                    , class_mode='categorical'\n",
    "                    , batch_size=batch_size, interpolation='nearest'\n",
    "                    , shuffle=True\n",
    "                   )\n",
    "val_generator = ImageDataGenerator(\n",
    "    rescale=1./255).flow_from_directory(val_data_path, target_size=(img_width, img_height)\n",
    "                    , class_mode='categorical'\n",
    "                    , batch_size=batch_size, interpolation='nearest'\n",
    "                    , shuffle=True\n",
    "                   )"
   ]
  },
  {
   "cell_type": "markdown",
   "metadata": {},
   "source": [
    "Why do I need the below generator?\n",
    "- The $train\\_generator$ or $val\\_generator$ created above produces target for 4 class classification problem. But our $animal vs fruit$ classification needs a different target for the same batch. Please see the inline comments inside the below functions for details about each type of targets.\n",
    "- Wrapping the generators to produce X_batch, animal vs fruit target and 4 class classification target."
   ]
  },
  {
   "cell_type": "code",
   "execution_count": 5,
   "metadata": {
    "ExecuteTime": {
     "end_time": "2019-07-16T05:37:39.233917Z",
     "start_time": "2019-07-16T05:37:39.228873Z"
    }
   },
   "outputs": [],
   "source": [
    "# mode will be train for both training and validation\n",
    "def combined_generator(datagen, mode='train'):\n",
    "    y_4c = None\n",
    "    while True:\n",
    "        if mode == 'train':\n",
    "            X_batch, y_4c = datagen.next() # produces 4 class classification target\n",
    "        else:\n",
    "            X_batch = datagen.next()\n",
    "        if y_4c is not None:\n",
    "            # class and how the target looks for y_4c\n",
    "            # cat     [1, 0, 0, 0]\n",
    "            # dog     [0, 1, 0, 0]\n",
    "            # grapes  [0, 0, 1, 0]\n",
    "            # pear    [0, 0, 0, 1]\n",
    "\n",
    "            # for a_vs_f model we need target of shape (batch_size, 2)\n",
    "            # class cat and dog -> [1, 0]\n",
    "            # class grapes and pear -> [0, 1]\n",
    "            # how class and the target should look for a_vs_f model\n",
    "            # cat     [1, 0]\n",
    "            # dog     [1, 0]\n",
    "            # grapes  [0, 1]\n",
    "            # pear    [0, 1]\n",
    "\n",
    "            y_a_f = np.zeros((y_4c.shape[0], 2))\n",
    "            for idx, y in enumerate(y_4c):\n",
    "                if np.all(y == [1, 0, 0, 0]) or np.all(y == [0, 1, 0, 0]):\n",
    "                    y_a_f[idx] = [1, 0]\n",
    "                else:\n",
    "                    y_a_f[idx] = [0, 1]\n",
    "            # produce animal vs fruit and 4class classification target for the sasme set of training images\n",
    "            yield X_batch, [y_a_f, y_4c]\n",
    "        else:\n",
    "            yield X_batch\n",
    "    "
   ]
  },
  {
   "cell_type": "code",
   "execution_count": 6,
   "metadata": {
    "ExecuteTime": {
     "end_time": "2019-07-16T05:37:43.634046Z",
     "start_time": "2019-07-16T05:37:42.916059Z"
    }
   },
   "outputs": [
    {
     "name": "stdout",
     "output_type": "stream",
     "text": [
      "Shape of one batch of data:\n",
      "X shape:  (32, 28, 28, 3)\n",
      "y_a_f shape:  (32, 2)\n",
      "y_4c shape:  (32, 4)\n"
     ]
    },
    {
     "data": {
      "image/png": "[encoded data removed]",
      "text/plain": [
       "<Figure size 432x288 with 16 Axes>"
      ]
     },
     "metadata": {
      "needs_background": "light"
     },
     "output_type": "display_data"
    }
   ],
   "source": [
    "# test how my generator is doing\n",
    "X, y = next(combined_generator(train_generator)) # ask for a batch\n",
    "\n",
    "print('Shape of one batch of data:')\n",
    "print('X shape: ', X.shape)\n",
    "print('y_a_f shape: ', y[0].shape)\n",
    "print('y_4c shape: ', y[1].shape)\n",
    "\n",
    "\n",
    "r, c = 4, 4 # lets not show entire batch, check rxc images\n",
    "imgs = X[:r*c]\n",
    "label1 = y[0][:r*c] # animal vs fruit target. see the generator ouput order\n",
    "label2 = y[1][:r*c] # 4 class classification output. see the generator ouput order\n",
    "\n",
    "cnt = 0\n",
    "fig, axs = plt.subplots(r, c)\n",
    "fig.tight_layout()\n",
    "for i in range(r):\n",
    "    for j in range(c):\n",
    "        img = imgs[cnt]\n",
    "        axs[i, j].imshow(img, cmap=cm.gray)\n",
    "        axs[i, j].axis('off')\n",
    "        axs[i, j].set_title('\\n'.join(wrap(str(label1[cnt])+str(label2[cnt]),60))) # took some time to figure this out!\n",
    "        cnt += 1\n",
    "plt.show()\n",
    "plt.close()\n"
   ]
  },
  {
   "cell_type": "markdown",
   "metadata": {},
   "source": [
    "## Build models"
   ]
  },
  {
   "cell_type": "code",
   "execution_count": 7,
   "metadata": {
    "ExecuteTime": {
     "end_time": "2019-07-16T05:37:52.907389Z",
     "start_time": "2019-07-16T05:37:52.905387Z"
    }
   },
   "outputs": [],
   "source": [
    "# some model realted constants\n",
    "latent_dim = 128\n",
    "epochs = 50\n",
    "learning_rate = 1E-4 # with only 100 samples per class, slow cooking (small batch_size, small lr) seems good."
   ]
  },
  {
   "cell_type": "code",
   "execution_count": 15,
   "metadata": {
    "ExecuteTime": {
     "end_time": "2019-07-16T05:42:00.291547Z",
     "start_time": "2019-07-16T05:42:00.285028Z"
    }
   },
   "outputs": [],
   "source": [
    "# build the animal vs fruit model\n",
    "def build_a_vs_f_model(input_dim=(img_width, img_height, n_channel), n_classes=2):\n",
    "    input_ = L.Input(shape=input_dim)\n",
    "    x = L.Conv2D(32, kernel_size=(3, 3), activation='relu')(input_)\n",
    "    x = L.Conv2D(64, kernel_size=(3, 3), activation='relu')(x)\n",
    "    x = L.MaxPooling2D(pool_size=(2, 2))(x)\n",
    "    x = L.Dropout(0.25)(x)\n",
    "    x = L.Flatten()(x)\n",
    "    feat = L.Dense(latent_dim, activation='relu')(x)\n",
    "    pred = L.Dense(n_classes, activation='softmax')(feat)\n",
    "\n",
    "    # this is to classify animal vs fruit\n",
    "    af_model = keras.models.Model(inputs=input_, outputs=pred, name='af_model')\n",
    "    # idea is to use this layer output as a input feature to the 4 class classification problem\n",
    "    af_feature_model = keras.models.Model(inputs=input_, outputs=feat, name='feat_model')\n",
    "    \n",
    "    af_model.summary()\n",
    "    keras.utils.vis_utils.plot_model(af_model, to_file='a_vs_f_model_plot.png', show_shapes=True, show_layer_names=True)\n",
    "\n",
    "    return af_model, af_feature_model"
   ]
  },
  {
   "cell_type": "code",
   "execution_count": 16,
   "metadata": {
    "ExecuteTime": {
     "end_time": "2019-07-16T05:42:00.897238Z",
     "start_time": "2019-07-16T05:42:00.890156Z"
    }
   },
   "outputs": [],
   "source": [
    "# build the 4 class classification model\n",
    "def build_4class_model(input_dim=(img_width, img_height, n_channel), n_classes=4, latent_dim=128):\n",
    "    input_img = L.Input(shape=input_dim)\n",
    "    x = L.Conv2D(32, kernel_size=(3, 3), activation='relu')(input_img)\n",
    "    x = L.Conv2D(64, kernel_size=(3, 3), activation='relu')(x)\n",
    "    x = L.MaxPooling2D(pool_size=(2, 2))(x)\n",
    "    x = L.Dropout(0.25)(x)\n",
    "    x = L.Flatten()(x)\n",
    "    x = L.Dense(128, activation='relu')(x)\n",
    "    \n",
    "    input_feat = L.Input(shape=(latent_dim,))\n",
    "    y = L.Concatenate()([x, input_feat])\n",
    "    y = L.Dense(128)(y)\n",
    "    y = L.Dropout(0.25)(y)\n",
    "    y = L.Dense(64)(y)\n",
    "    y = L.Dropout(0.25)(y)\n",
    "    y = L.Dense(32)(y)\n",
    "    y = L.Dropout(0.25)(y)\n",
    "    pred = L.Dense(n_classes, activation='softmax')(y)\n",
    "    model = keras.models.Model(inputs=[input_img, input_feat], outputs=pred, name='class4_model')\n",
    "    model.summary()\n",
    "    keras.utils.vis_utils.plot_model(model, to_file='class4_model_plot.png', show_shapes=True, show_layer_names=True)\n",
    "\n",
    "    return model"
   ]
  },
  {
   "cell_type": "code",
   "execution_count": 17,
   "metadata": {
    "ExecuteTime": {
     "end_time": "2019-07-16T05:42:01.487351Z",
     "start_time": "2019-07-16T05:42:01.483341Z"
    }
   },
   "outputs": [],
   "source": [
    "def build_combined_model(a_vs_f_model, feat_model, class4_model):\n",
    "    inputs = L.Input(shape=(img_width, img_height, n_channel))\n",
    "    a_f = a_vs_f_model(inputs)\n",
    "    feat = feat_model(inputs)\n",
    "    pred = class4_model([inputs, feat])\n",
    "    model = keras.models.Model(inputs=inputs, outputs=[a_f, pred], name='comb_model')\n",
    "    model.summary()\n",
    "    keras.utils.vis_utils.plot_model(model, to_file='comb_model_plot.png', show_shapes=True, show_layer_names=True)\n",
    "    return model"
   ]
  },
  {
   "cell_type": "code",
   "execution_count": 18,
   "metadata": {
    "ExecuteTime": {
     "end_time": "2019-07-16T05:42:02.105255Z",
     "start_time": "2019-07-16T05:42:02.099238Z"
    }
   },
   "outputs": [],
   "source": [
    "# now, time to train the model\n",
    "def train_model():\n",
    "    \n",
    "    # create models\n",
    "    a_vs_f_model, feat_model = build_a_vs_f_model()\n",
    "    class_4_model = build_4class_model()\n",
    "    combined_model = build_combined_model(a_vs_f_model, feat_model, class_4_model)\n",
    "    \n",
    "    # get opt\n",
    "    comb_opt = opt.Adam(lr=learning_rate, beta_1=0.9, beta_2=0.999, epsilon=1e-08)\n",
    "\n",
    "    loss_weights = [2, 1] # animal vs fruit classification is given more weight\n",
    "    combined_model.compile(optimizer=comb_opt\n",
    "                           , loss=['categorical_crossentropy', 'categorical_crossentropy']\n",
    "                           , loss_weights=loss_weights, metrics=['acc'])\n",
    "    \n",
    "    # set up callbacks\n",
    "    model_filepath = 'model.hdf5'\n",
    "    chkpoint = keras.callbacks.ModelCheckpoint(model_filepath, monitor='val_loss', verbose=1\n",
    "                    , save_best_only=True, save_weights_only=False, mode='auto', period=1)\n",
    "    callback_list=[keras.callbacks.History(), chkpoint]\n",
    "    \n",
    "    history = combined_model.fit_generator(\n",
    "            generator=combined_generator(train_generator),\n",
    "            steps_per_epoch=1+train_generator.n//train_generator.batch_size,\n",
    "            validation_data=combined_generator(val_generator),\n",
    "            validation_steps=1+val_generator.n//val_generator.batch_size,\n",
    "            callbacks=callback_list,\n",
    "            epochs=epochs\n",
    "        )\n",
    "        \n",
    "    return combined_model, history\n",
    "    "
   ]
  },
  {
   "cell_type": "code",
   "execution_count": 19,
   "metadata": {
    "ExecuteTime": {
     "end_time": "2019-07-16T05:45:12.250239Z",
     "start_time": "2019-07-16T05:42:02.723105Z"
    }
   },
   "outputs": [
    {
     "name": "stdout",
     "output_type": "stream",
     "text": [
      "_________________________________________________________________\n",
      "Layer (type)                 Output Shape              Param #   \n",
      "=================================================================\n",
      "input_5 (InputLayer)         (None, 28, 28, 3)         0         \n",
      "_________________________________________________________________\n",
      "conv2d_5 (Conv2D)            (None, 26, 26, 32)        896       \n",
      "_________________________________________________________________\n",
      "conv2d_6 (Conv2D)            (None, 24, 24, 64)        18496     \n",
      "_________________________________________________________________\n",
      "max_pooling2d_3 (MaxPooling2 (None, 12, 12, 64)        0         \n",
      "_________________________________________________________________\n",
      "dropout_7 (Dropout)          (None, 12, 12, 64)        0         \n",
      "_________________________________________________________________\n",
      "flatten_3 (Flatten)          (None, 9216)              0         \n",
      "_________________________________________________________________\n",
      "dense_8 (Dense)              (None, 128)               1179776   \n",
      "_________________________________________________________________\n",
      "dense_9 (Dense)              (None, 2)                 258       \n",
      "=================================================================\n",
      "Total params: 1,199,426\n",
      "Trainable params: 1,199,426\n",
      "Non-trainable params: 0\n",
      "_________________________________________________________________\n",
      "__________________________________________________________________________________________________\n",
      "Layer (type)                    Output Shape         Param #     Connected to                     \n",
      "==================================================================================================\n",
      "input_6 (InputLayer)            (None, 28, 28, 3)    0                                            \n",
      "__________________________________________________________________________________________________\n",
      "conv2d_7 (Conv2D)               (None, 26, 26, 32)   896         input_6[0][0]                    \n",
      "__________________________________________________________________________________________________\n",
      "conv2d_8 (Conv2D)               (None, 24, 24, 64)   18496       conv2d_7[0][0]                   \n",
      "__________________________________________________________________________________________________\n",
      "max_pooling2d_4 (MaxPooling2D)  (None, 12, 12, 64)   0           conv2d_8[0][0]                   \n",
      "__________________________________________________________________________________________________\n",
      "dropout_8 (Dropout)             (None, 12, 12, 64)   0           max_pooling2d_4[0][0]            \n",
      "__________________________________________________________________________________________________\n",
      "flatten_4 (Flatten)             (None, 9216)         0           dropout_8[0][0]                  \n",
      "__________________________________________________________________________________________________\n",
      "dense_10 (Dense)                (None, 128)          1179776     flatten_4[0][0]                  \n",
      "__________________________________________________________________________________________________\n",
      "input_7 (InputLayer)            (None, 128)          0                                            \n",
      "__________________________________________________________________________________________________\n",
      "concatenate_2 (Concatenate)     (None, 256)          0           dense_10[0][0]                   \n",
      "                                                                 input_7[0][0]                    \n",
      "__________________________________________________________________________________________________\n",
      "dense_11 (Dense)                (None, 128)          32896       concatenate_2[0][0]              \n",
      "__________________________________________________________________________________________________\n",
      "dropout_9 (Dropout)             (None, 128)          0           dense_11[0][0]                   \n",
      "__________________________________________________________________________________________________\n",
      "dense_12 (Dense)                (None, 64)           8256        dropout_9[0][0]                  \n",
      "__________________________________________________________________________________________________\n",
      "dropout_10 (Dropout)            (None, 64)           0           dense_12[0][0]                   \n",
      "__________________________________________________________________________________________________\n",
      "dense_13 (Dense)                (None, 32)           2080        dropout_10[0][0]                 \n",
      "__________________________________________________________________________________________________\n",
      "dropout_11 (Dropout)            (None, 32)           0           dense_13[0][0]                   \n",
      "__________________________________________________________________________________________________\n",
      "dense_14 (Dense)                (None, 4)            132         dropout_11[0][0]                 \n",
      "==================================================================================================\n",
      "Total params: 1,242,532\n",
      "Trainable params: 1,242,532\n",
      "Non-trainable params: 0\n",
      "__________________________________________________________________________________________________\n",
      "__________________________________________________________________________________________________\n",
      "Layer (type)                    Output Shape         Param #     Connected to                     \n",
      "==================================================================================================\n",
      "input_8 (InputLayer)            (None, 28, 28, 3)    0                                            \n",
      "__________________________________________________________________________________________________\n",
      "feat_model (Model)              (None, 128)          1199168     input_8[0][0]                    \n",
      "__________________________________________________________________________________________________\n",
      "af_model (Model)                (None, 2)            1199426     input_8[0][0]                    \n",
      "__________________________________________________________________________________________________\n",
      "class4_model (Model)            (None, 4)            1242532     input_8[0][0]                    \n",
      "                                                                 feat_model[1][0]                 \n",
      "==================================================================================================\n",
      "Total params: 2,441,958\n",
      "Trainable params: 2,441,958\n",
      "Non-trainable params: 0\n",
      "__________________________________________________________________________________________________\n",
      "Epoch 1/50\n",
      "13/13 [==============================] - 4s 325ms/step - loss: 2.9585 - af_model_loss: 0.6972 - class4_model_loss: 1.5640 - af_model_acc: 0.5262 - class4_model_acc: 0.2331 - val_loss: 2.6944 - val_af_model_loss: 0.6661 - val_class4_model_loss: 1.3621 - val_af_model_acc: 0.7500 - val_class4_model_acc: 0.3950\n",
      "\n",
      "Epoch 00001: val_loss improved from inf to 2.69442, saving model to model.hdf5\n",
      "Epoch 2/50\n",
      "13/13 [==============================] - 3s 258ms/step - loss: 2.7946 - af_model_loss: 0.6851 - class4_model_loss: 1.4244 - af_model_acc: 0.5599 - class4_model_acc: 0.2789 - val_loss: 2.6328 - val_af_model_loss: 0.6550 - val_class4_model_loss: 1.3228 - val_af_model_acc: 0.6175 - val_class4_model_acc: 0.4525\n",
      "\n",
      "Epoch 00002: val_loss improved from 2.69442 to 2.63282, saving model to model.hdf5\n",
      "Epoch 3/50\n",
      "13/13 [==============================] - 4s 278ms/step - loss: 2.8076 - af_model_loss: 0.6924 - class4_model_loss: 1.4228 - af_model_acc: 0.5360 - class4_model_acc: 0.2424 - val_loss: 2.6023 - val_af_model_loss: 0.6437 - val_class4_model_loss: 1.3149 - val_af_model_acc: 0.7950 - val_class4_model_acc: 0.4650\n",
      "\n",
      "Epoch 00003: val_loss improved from 2.63282 to 2.60231, saving model to model.hdf5\n",
      "Epoch 4/50\n",
      "13/13 [==============================] - 4s 278ms/step - loss: 2.7121 - af_model_loss: 0.6718 - class4_model_loss: 1.3686 - af_model_acc: 0.6369 - class4_model_acc: 0.3366 - val_loss: 2.5022 - val_af_model_loss: 0.6112 - val_class4_model_loss: 1.2798 - val_af_model_acc: 0.8225 - val_class4_model_acc: 0.4925\n",
      "\n",
      "Epoch 00004: val_loss improved from 2.60231 to 2.50224, saving model to model.hdf5\n",
      "Epoch 5/50\n"
     ]
    },
    {
     "name": "stdout",
     "output_type": "stream",
     "text": [
      "13/13 [==============================] - 4s 272ms/step - loss: 2.6601 - af_model_loss: 0.6572 - class4_model_loss: 1.3457 - af_model_acc: 0.6849 - class4_model_acc: 0.3220 - val_loss: 2.3367 - val_af_model_loss: 0.5631 - val_class4_model_loss: 1.2106 - val_af_model_acc: 0.8600 - val_class4_model_acc: 0.6425\n",
      "\n",
      "Epoch 00005: val_loss improved from 2.50224 to 2.33674, saving model to model.hdf5\n",
      "Epoch 6/50\n",
      "13/13 [==============================] - 4s 278ms/step - loss: 2.6139 - af_model_loss: 0.6483 - class4_model_loss: 1.3173 - af_model_acc: 0.6446 - class4_model_acc: 0.4041 - val_loss: 2.2416 - val_af_model_loss: 0.5329 - val_class4_model_loss: 1.1759 - val_af_model_acc: 0.8200 - val_class4_model_acc: 0.6050\n",
      "\n",
      "Epoch 00006: val_loss improved from 2.33674 to 2.24157, saving model to model.hdf5\n",
      "Epoch 7/50\n",
      "13/13 [==============================] - 4s 270ms/step - loss: 2.5335 - af_model_loss: 0.6199 - class4_model_loss: 1.2937 - af_model_acc: 0.6825 - class4_model_acc: 0.4043 - val_loss: 2.0541 - val_af_model_loss: 0.4891 - val_class4_model_loss: 1.0758 - val_af_model_acc: 0.8450 - val_class4_model_acc: 0.6950\n",
      "\n",
      "Epoch 00007: val_loss improved from 2.24157 to 2.05410, saving model to model.hdf5\n",
      "Epoch 8/50\n",
      "13/13 [==============================] - 4s 272ms/step - loss: 2.4533 - af_model_loss: 0.6040 - class4_model_loss: 1.2453 - af_model_acc: 0.7088 - class4_model_acc: 0.4399 - val_loss: 1.9597 - val_af_model_loss: 0.4824 - val_class4_model_loss: 0.9949 - val_af_model_acc: 0.8025 - val_class4_model_acc: 0.6250\n",
      "\n",
      "Epoch 00008: val_loss improved from 2.05410 to 1.95970, saving model to model.hdf5\n",
      "Epoch 9/50\n",
      "13/13 [==============================] - 4s 270ms/step - loss: 2.3943 - af_model_loss: 0.5929 - class4_model_loss: 1.2086 - af_model_acc: 0.6875 - class4_model_acc: 0.4585 - val_loss: 1.9245 - val_af_model_loss: 0.4765 - val_class4_model_loss: 0.9714 - val_af_model_acc: 0.8100 - val_class4_model_acc: 0.6400\n",
      "\n",
      "Epoch 00009: val_loss improved from 1.95970 to 1.92447, saving model to model.hdf5\n",
      "Epoch 10/50\n",
      "13/13 [==============================] - 4s 273ms/step - loss: 2.3204 - af_model_loss: 0.5718 - class4_model_loss: 1.1768 - af_model_acc: 0.7314 - class4_model_acc: 0.4735 - val_loss: 1.7592 - val_af_model_loss: 0.4220 - val_class4_model_loss: 0.9152 - val_af_model_acc: 0.8450 - val_class4_model_acc: 0.7050\n",
      "\n",
      "Epoch 00010: val_loss improved from 1.92447 to 1.75921, saving model to model.hdf5\n",
      "Epoch 11/50\n",
      "13/13 [==============================] - 4s 277ms/step - loss: 2.1539 - af_model_loss: 0.5402 - class4_model_loss: 1.0735 - af_model_acc: 0.7502 - class4_model_acc: 0.5508 - val_loss: 1.6164 - val_af_model_loss: 0.4019 - val_class4_model_loss: 0.8125 - val_af_model_acc: 0.8500 - val_class4_model_acc: 0.7125\n",
      "\n",
      "Epoch 00011: val_loss improved from 1.75921 to 1.61636, saving model to model.hdf5\n",
      "Epoch 12/50\n",
      "13/13 [==============================] - 4s 291ms/step - loss: 2.2859 - af_model_loss: 0.5587 - class4_model_loss: 1.1684 - af_model_acc: 0.7233 - class4_model_acc: 0.4518 - val_loss: 1.6577 - val_af_model_loss: 0.4021 - val_class4_model_loss: 0.8535 - val_af_model_acc: 0.8500 - val_class4_model_acc: 0.6925\n",
      "\n",
      "Epoch 00012: val_loss did not improve from 1.61636\n",
      "Epoch 13/50\n",
      "13/13 [==============================] - 4s 316ms/step - loss: 2.1187 - af_model_loss: 0.5218 - class4_model_loss: 1.0751 - af_model_acc: 0.7667 - class4_model_acc: 0.5629 - val_loss: 1.4968 - val_af_model_loss: 0.3672 - val_class4_model_loss: 0.7624 - val_af_model_acc: 0.8775 - val_class4_model_acc: 0.6900\n",
      "\n",
      "Epoch 00013: val_loss improved from 1.61636 to 1.49679, saving model to model.hdf5\n",
      "Epoch 14/50\n",
      "13/13 [==============================] - 4s 330ms/step - loss: 2.1365 - af_model_loss: 0.5535 - class4_model_loss: 1.0296 - af_model_acc: 0.7307 - class4_model_acc: 0.5434 - val_loss: 1.6888 - val_af_model_loss: 0.4204 - val_class4_model_loss: 0.8480 - val_af_model_acc: 0.8150 - val_class4_model_acc: 0.6850\n",
      "\n",
      "Epoch 00014: val_loss did not improve from 1.49679\n",
      "Epoch 15/50\n",
      "13/13 [==============================] - 4s 297ms/step - loss: 2.2249 - af_model_loss: 0.5617 - class4_model_loss: 1.1015 - af_model_acc: 0.7144 - class4_model_acc: 0.5462 - val_loss: 1.5808 - val_af_model_loss: 0.3989 - val_class4_model_loss: 0.7830 - val_af_model_acc: 0.8525 - val_class4_model_acc: 0.6850\n",
      "\n",
      "Epoch 00015: val_loss did not improve from 1.49679\n",
      "Epoch 16/50\n",
      "13/13 [==============================] - 4s 303ms/step - loss: 2.0533 - af_model_loss: 0.5189 - class4_model_loss: 1.0156 - af_model_acc: 0.7546 - class4_model_acc: 0.5558 - val_loss: 1.4904 - val_af_model_loss: 0.3659 - val_class4_model_loss: 0.7585 - val_af_model_acc: 0.8625 - val_class4_model_acc: 0.7050\n",
      "\n",
      "Epoch 00016: val_loss improved from 1.49679 to 1.49038, saving model to model.hdf5\n",
      "Epoch 17/50\n",
      "13/13 [==============================] - 4s 298ms/step - loss: 1.9653 - af_model_loss: 0.5048 - class4_model_loss: 0.9557 - af_model_acc: 0.7667 - class4_model_acc: 0.5675 - val_loss: 1.4438 - val_af_model_loss: 0.3680 - val_class4_model_loss: 0.7078 - val_af_model_acc: 0.8700 - val_class4_model_acc: 0.7025\n",
      "\n",
      "Epoch 00017: val_loss improved from 1.49038 to 1.44382, saving model to model.hdf5\n",
      "Epoch 18/50\n",
      "13/13 [==============================] - 4s 315ms/step - loss: 2.0028 - af_model_loss: 0.5150 - class4_model_loss: 0.9728 - af_model_acc: 0.7450 - class4_model_acc: 0.5812 - val_loss: 1.4559 - val_af_model_loss: 0.3805 - val_class4_model_loss: 0.6949 - val_af_model_acc: 0.8500 - val_class4_model_acc: 0.7425\n",
      "\n",
      "Epoch 00018: val_loss did not improve from 1.44382\n",
      "Epoch 19/50\n",
      "13/13 [==============================] - 4s 279ms/step - loss: 1.9665 - af_model_loss: 0.4860 - class4_model_loss: 0.9945 - af_model_acc: 0.7719 - class4_model_acc: 0.5866 - val_loss: 1.6312 - val_af_model_loss: 0.3796 - val_class4_model_loss: 0.8719 - val_af_model_acc: 0.8575 - val_class4_model_acc: 0.6575\n",
      "\n",
      "Epoch 00019: val_loss did not improve from 1.44382\n",
      "Epoch 20/50\n",
      "13/13 [==============================] - 4s 279ms/step - loss: 1.8655 - af_model_loss: 0.4670 - class4_model_loss: 0.9315 - af_model_acc: 0.8053 - class4_model_acc: 0.5979 - val_loss: 1.5094 - val_af_model_loss: 0.3822 - val_class4_model_loss: 0.7450 - val_af_model_acc: 0.8425 - val_class4_model_acc: 0.7175\n",
      "\n",
      "Epoch 00020: val_loss did not improve from 1.44382\n",
      "Epoch 21/50\n",
      "13/13 [==============================] - 4s 276ms/step - loss: 1.8040 - af_model_loss: 0.4571 - class4_model_loss: 0.8899 - af_model_acc: 0.8123 - class4_model_acc: 0.6539 - val_loss: 1.3933 - val_af_model_loss: 0.3655 - val_class4_model_loss: 0.6624 - val_af_model_acc: 0.8650 - val_class4_model_acc: 0.7400\n",
      "\n",
      "Epoch 00021: val_loss improved from 1.44382 to 1.39333, saving model to model.hdf5\n",
      "Epoch 22/50\n",
      "13/13 [==============================] - 4s 282ms/step - loss: 1.9040 - af_model_loss: 0.4877 - class4_model_loss: 0.9287 - af_model_acc: 0.7693 - class4_model_acc: 0.6200 - val_loss: 1.4492 - val_af_model_loss: 0.3497 - val_class4_model_loss: 0.7497 - val_af_model_acc: 0.8575 - val_class4_model_acc: 0.7275\n",
      "\n",
      "Epoch 00022: val_loss did not improve from 1.39333\n",
      "Epoch 23/50\n",
      "13/13 [==============================] - 4s 280ms/step - loss: 1.9284 - af_model_loss: 0.4770 - class4_model_loss: 0.9743 - af_model_acc: 0.7956 - class4_model_acc: 0.6011 - val_loss: 1.5875 - val_af_model_loss: 0.4266 - val_class4_model_loss: 0.7343 - val_af_model_acc: 0.8350 - val_class4_model_acc: 0.7050\n",
      "\n",
      "Epoch 00023: val_loss did not improve from 1.39333\n",
      "Epoch 24/50\n",
      "13/13 [==============================] - 4s 280ms/step - loss: 1.9558 - af_model_loss: 0.5049 - class4_model_loss: 0.9460 - af_model_acc: 0.7579 - class4_model_acc: 0.6011 - val_loss: 1.3980 - val_af_model_loss: 0.3265 - val_class4_model_loss: 0.7450 - val_af_model_acc: 0.8850 - val_class4_model_acc: 0.7225\n",
      "\n",
      "Epoch 00024: val_loss did not improve from 1.39333\n",
      "Epoch 25/50\n",
      "13/13 [==============================] - 4s 272ms/step - loss: 1.8525 - af_model_loss: 0.4690 - class4_model_loss: 0.9145 - af_model_acc: 0.7715 - class4_model_acc: 0.6178 - val_loss: 1.2671 - val_af_model_loss: 0.3123 - val_class4_model_loss: 0.6425 - val_af_model_acc: 0.8900 - val_class4_model_acc: 0.7500\n",
      "\n",
      "Epoch 00025: val_loss improved from 1.39333 to 1.26707, saving model to model.hdf5\n",
      "Epoch 26/50\n"
     ]
    },
    {
     "name": "stdout",
     "output_type": "stream",
     "text": [
      "13/13 [==============================] - 4s 271ms/step - loss: 1.7582 - af_model_loss: 0.4426 - class4_model_loss: 0.8729 - af_model_acc: 0.8096 - class4_model_acc: 0.6128 - val_loss: 1.5585 - val_af_model_loss: 0.3604 - val_class4_model_loss: 0.8377 - val_af_model_acc: 0.8550 - val_class4_model_acc: 0.6950\n",
      "\n",
      "Epoch 00026: val_loss did not improve from 1.26707\n",
      "Epoch 27/50\n",
      "13/13 [==============================] - 4s 280ms/step - loss: 1.7514 - af_model_loss: 0.4442 - class4_model_loss: 0.8631 - af_model_acc: 0.7934 - class4_model_acc: 0.6346 - val_loss: 1.3833 - val_af_model_loss: 0.2976 - val_class4_model_loss: 0.7881 - val_af_model_acc: 0.8975 - val_class4_model_acc: 0.7050\n",
      "\n",
      "Epoch 00027: val_loss did not improve from 1.26707\n",
      "Epoch 28/50\n",
      "13/13 [==============================] - 4s 275ms/step - loss: 1.7173 - af_model_loss: 0.4266 - class4_model_loss: 0.8642 - af_model_acc: 0.8194 - class4_model_acc: 0.6221 - val_loss: 1.4149 - val_af_model_loss: 0.3534 - val_class4_model_loss: 0.7080 - val_af_model_acc: 0.8575 - val_class4_model_acc: 0.7375\n",
      "\n",
      "Epoch 00028: val_loss did not improve from 1.26707\n",
      "Epoch 29/50\n",
      "13/13 [==============================] - 4s 293ms/step - loss: 1.6900 - af_model_loss: 0.4275 - class4_model_loss: 0.8350 - af_model_acc: 0.8175 - class4_model_acc: 0.6629 - val_loss: 1.5830 - val_af_model_loss: 0.3478 - val_class4_model_loss: 0.8874 - val_af_model_acc: 0.8575 - val_class4_model_acc: 0.6825\n",
      "\n",
      "Epoch 00029: val_loss did not improve from 1.26707\n",
      "Epoch 30/50\n",
      "13/13 [==============================] - 4s 300ms/step - loss: 1.7043 - af_model_loss: 0.4176 - class4_model_loss: 0.8691 - af_model_acc: 0.8218 - class4_model_acc: 0.6396 - val_loss: 1.3151 - val_af_model_loss: 0.3204 - val_class4_model_loss: 0.6742 - val_af_model_acc: 0.8925 - val_class4_model_acc: 0.7500\n",
      "\n",
      "Epoch 00030: val_loss did not improve from 1.26707\n",
      "Epoch 31/50\n",
      "13/13 [==============================] - 4s 280ms/step - loss: 1.7092 - af_model_loss: 0.4305 - class4_model_loss: 0.8482 - af_model_acc: 0.8123 - class4_model_acc: 0.6371 - val_loss: 1.3466 - val_af_model_loss: 0.3094 - val_class4_model_loss: 0.7278 - val_af_model_acc: 0.8950 - val_class4_model_acc: 0.7125\n",
      "\n",
      "Epoch 00031: val_loss did not improve from 1.26707\n",
      "Epoch 32/50\n",
      "13/13 [==============================] - 4s 275ms/step - loss: 1.6294 - af_model_loss: 0.4252 - class4_model_loss: 0.7789 - af_model_acc: 0.8175 - class4_model_acc: 0.6877 - val_loss: 1.4215 - val_af_model_loss: 0.3431 - val_class4_model_loss: 0.7353 - val_af_model_acc: 0.8625 - val_class4_model_acc: 0.7325\n",
      "\n",
      "Epoch 00032: val_loss did not improve from 1.26707\n",
      "Epoch 33/50\n",
      "13/13 [==============================] - 4s 282ms/step - loss: 1.5924 - af_model_loss: 0.4198 - class4_model_loss: 0.7528 - af_model_acc: 0.8240 - class4_model_acc: 0.6823 - val_loss: 1.4965 - val_af_model_loss: 0.3229 - val_class4_model_loss: 0.8506 - val_af_model_acc: 0.8875 - val_class4_model_acc: 0.6850\n",
      "\n",
      "Epoch 00033: val_loss did not improve from 1.26707\n",
      "Epoch 34/50\n",
      "13/13 [==============================] - 4s 283ms/step - loss: 1.6044 - af_model_loss: 0.4044 - class4_model_loss: 0.7956 - af_model_acc: 0.8312 - class4_model_acc: 0.6606 - val_loss: 1.2183 - val_af_model_loss: 0.2786 - val_class4_model_loss: 0.6610 - val_af_model_acc: 0.8975 - val_class4_model_acc: 0.7475\n",
      "\n",
      "Epoch 00034: val_loss improved from 1.26707 to 1.21829, saving model to model.hdf5\n",
      "Epoch 35/50\n",
      "13/13 [==============================] - 4s 282ms/step - loss: 1.7487 - af_model_loss: 0.4339 - class4_model_loss: 0.8809 - af_model_acc: 0.8179 - class4_model_acc: 0.6255 - val_loss: 1.3554 - val_af_model_loss: 0.3298 - val_class4_model_loss: 0.6958 - val_af_model_acc: 0.8725 - val_class4_model_acc: 0.7225\n",
      "\n",
      "Epoch 00035: val_loss did not improve from 1.21829\n",
      "Epoch 36/50\n",
      "13/13 [==============================] - 4s 281ms/step - loss: 1.6354 - af_model_loss: 0.4012 - class4_model_loss: 0.8330 - af_model_acc: 0.8242 - class4_model_acc: 0.6346 - val_loss: 1.2797 - val_af_model_loss: 0.3125 - val_class4_model_loss: 0.6547 - val_af_model_acc: 0.8800 - val_class4_model_acc: 0.7650\n",
      "\n",
      "Epoch 00036: val_loss did not improve from 1.21829\n",
      "Epoch 37/50\n",
      "13/13 [==============================] - 4s 292ms/step - loss: 1.7140 - af_model_loss: 0.4314 - class4_model_loss: 0.8512 - af_model_acc: 0.8199 - class4_model_acc: 0.6393 - val_loss: 1.2868 - val_af_model_loss: 0.3031 - val_class4_model_loss: 0.6806 - val_af_model_acc: 0.9050 - val_class4_model_acc: 0.7125\n",
      "\n",
      "Epoch 00037: val_loss did not improve from 1.21829\n",
      "Epoch 38/50\n",
      "13/13 [==============================] - 4s 273ms/step - loss: 1.6793 - af_model_loss: 0.4297 - class4_model_loss: 0.8199 - af_model_acc: 0.8079 - class4_model_acc: 0.6632 - val_loss: 1.3440 - val_af_model_loss: 0.3222 - val_class4_model_loss: 0.6996 - val_af_model_acc: 0.8800 - val_class4_model_acc: 0.7400\n",
      "\n",
      "Epoch 00038: val_loss did not improve from 1.21829\n",
      "Epoch 39/50\n",
      "13/13 [==============================] - 4s 276ms/step - loss: 1.5870 - af_model_loss: 0.4050 - class4_model_loss: 0.7770 - af_model_acc: 0.8246 - class4_model_acc: 0.6704 - val_loss: 1.3481 - val_af_model_loss: 0.3160 - val_class4_model_loss: 0.7160 - val_af_model_acc: 0.8925 - val_class4_model_acc: 0.7550\n",
      "\n",
      "Epoch 00039: val_loss did not improve from 1.21829\n",
      "Epoch 40/50\n",
      "13/13 [==============================] - 4s 278ms/step - loss: 1.5590 - af_model_loss: 0.3965 - class4_model_loss: 0.7661 - af_model_acc: 0.8316 - class4_model_acc: 0.6825 - val_loss: 1.2229 - val_af_model_loss: 0.2799 - val_class4_model_loss: 0.6631 - val_af_model_acc: 0.9200 - val_class4_model_acc: 0.7450\n",
      "\n",
      "Epoch 00040: val_loss did not improve from 1.21829\n",
      "Epoch 41/50\n",
      "13/13 [==============================] - 4s 277ms/step - loss: 1.5408 - af_model_loss: 0.3998 - class4_model_loss: 0.7412 - af_model_acc: 0.8268 - class4_model_acc: 0.6804 - val_loss: 1.2775 - val_af_model_loss: 0.3014 - val_class4_model_loss: 0.6747 - val_af_model_acc: 0.8975 - val_class4_model_acc: 0.7550\n",
      "\n",
      "Epoch 00041: val_loss did not improve from 1.21829\n",
      "Epoch 42/50\n",
      "13/13 [==============================] - 4s 273ms/step - loss: 1.6607 - af_model_loss: 0.4241 - class4_model_loss: 0.8125 - af_model_acc: 0.8320 - class4_model_acc: 0.6684 - val_loss: 1.3473 - val_af_model_loss: 0.3203 - val_class4_model_loss: 0.7067 - val_af_model_acc: 0.8950 - val_class4_model_acc: 0.7400\n",
      "\n",
      "Epoch 00042: val_loss did not improve from 1.21829\n",
      "Epoch 43/50\n",
      "13/13 [==============================] - 4s 274ms/step - loss: 1.5878 - af_model_loss: 0.4119 - class4_model_loss: 0.7640 - af_model_acc: 0.8175 - class4_model_acc: 0.6734 - val_loss: 1.3507 - val_af_model_loss: 0.3149 - val_class4_model_loss: 0.7209 - val_af_model_acc: 0.8800 - val_class4_model_acc: 0.7400\n",
      "\n",
      "Epoch 00043: val_loss did not improve from 1.21829\n",
      "Epoch 44/50\n",
      "13/13 [==============================] - 4s 293ms/step - loss: 1.5644 - af_model_loss: 0.4024 - class4_model_loss: 0.7596 - af_model_acc: 0.8292 - class4_model_acc: 0.6923 - val_loss: 1.4298 - val_af_model_loss: 0.3367 - val_class4_model_loss: 0.7563 - val_af_model_acc: 0.8675 - val_class4_model_acc: 0.7600\n",
      "\n",
      "Epoch 00044: val_loss did not improve from 1.21829\n",
      "Epoch 45/50\n",
      "13/13 [==============================] - 4s 277ms/step - loss: 1.5049 - af_model_loss: 0.3937 - class4_model_loss: 0.7175 - af_model_acc: 0.8147 - class4_model_acc: 0.7088 - val_loss: 1.4161 - val_af_model_loss: 0.2862 - val_class4_model_loss: 0.8437 - val_af_model_acc: 0.9050 - val_class4_model_acc: 0.7075\n",
      "\n",
      "Epoch 00045: val_loss did not improve from 1.21829\n",
      "Epoch 46/50\n",
      "13/13 [==============================] - 4s 273ms/step - loss: 1.4154 - af_model_loss: 0.3659 - class4_model_loss: 0.6837 - af_model_acc: 0.8461 - class4_model_acc: 0.7240 - val_loss: 1.1873 - val_af_model_loss: 0.2713 - val_class4_model_loss: 0.6446 - val_af_model_acc: 0.9200 - val_class4_model_acc: 0.7650\n",
      "\n",
      "Epoch 00046: val_loss improved from 1.21829 to 1.18727, saving model to model.hdf5\n",
      "Epoch 47/50\n",
      "13/13 [==============================] - 4s 273ms/step - loss: 1.4237 - af_model_loss: 0.3766 - class4_model_loss: 0.6704 - af_model_acc: 0.8626 - class4_model_acc: 0.7643 - val_loss: 1.2434 - val_af_model_loss: 0.2926 - val_class4_model_loss: 0.6582 - val_af_model_acc: 0.8950 - val_class4_model_acc: 0.7600\n"
     ]
    },
    {
     "name": "stdout",
     "output_type": "stream",
     "text": [
      "\n",
      "Epoch 00047: val_loss did not improve from 1.18727\n",
      "Epoch 48/50\n",
      "13/13 [==============================] - 4s 275ms/step - loss: 1.4298 - af_model_loss: 0.3488 - class4_model_loss: 0.7322 - af_model_acc: 0.8438 - class4_model_acc: 0.6973 - val_loss: 1.4859 - val_af_model_loss: 0.3245 - val_class4_model_loss: 0.8369 - val_af_model_acc: 0.8425 - val_class4_model_acc: 0.7275\n",
      "\n",
      "Epoch 00048: val_loss did not improve from 1.18727\n",
      "Epoch 49/50\n",
      "13/13 [==============================] - 3s 267ms/step - loss: 1.6115 - af_model_loss: 0.4154 - class4_model_loss: 0.7808 - af_model_acc: 0.8132 - class4_model_acc: 0.6780 - val_loss: 1.6033 - val_af_model_loss: 0.3578 - val_class4_model_loss: 0.8877 - val_af_model_acc: 0.8450 - val_class4_model_acc: 0.7225\n",
      "\n",
      "Epoch 00049: val_loss did not improve from 1.18727\n",
      "Epoch 50/50\n",
      "13/13 [==============================] - 4s 278ms/step - loss: 1.4397 - af_model_loss: 0.3634 - class4_model_loss: 0.7129 - af_model_acc: 0.8463 - class4_model_acc: 0.6947 - val_loss: 1.0700 - val_af_model_loss: 0.2421 - val_class4_model_loss: 0.5858 - val_af_model_acc: 0.9150 - val_class4_model_acc: 0.7725\n",
      "\n",
      "Epoch 00050: val_loss improved from 1.18727 to 1.06995, saving model to model.hdf5\n"
     ]
    }
   ],
   "source": [
    "combined_model, history = train_model()"
   ]
  },
  {
   "cell_type": "code",
   "execution_count": 20,
   "metadata": {
    "ExecuteTime": {
     "end_time": "2019-07-16T05:45:12.263270Z",
     "start_time": "2019-07-16T05:45:12.253246Z"
    }
   },
   "outputs": [],
   "source": [
    "# lets have a look at the loss and acc of the model for train and val dataset\n",
    "def plot_model_perf(history):\n",
    "    # keys are hard to remmeber\n",
    "    print(history.history.keys())\n",
    "    \n",
    "    # summarize history for different accuracies\n",
    "    plt.plot(history.history['af_model_acc'])\n",
    "    plt.plot(history.history['val_af_model_acc'])\n",
    "    plt.title('animal vs fruit model accuracy')\n",
    "    plt.ylabel('accuracy')\n",
    "    plt.xlabel('epoch')\n",
    "    plt.legend(['train', 'test'], loc='upper left')\n",
    "    plt.show()\n",
    "\n",
    "    plt.plot(history.history['class4_model_acc'])\n",
    "    plt.plot(history.history['val_class4_model_acc'])\n",
    "    plt.title('4 class model accuracy')\n",
    "    plt.ylabel('accuracy')\n",
    "    plt.xlabel('epoch')\n",
    "    plt.legend(['train', 'test'], loc='upper left')\n",
    "    plt.show()\n",
    "    \n",
    "    # summarize history for losses\n",
    "    plt.plot(history.history['af_model_loss'])\n",
    "    plt.plot(history.history['val_af_model_loss'])\n",
    "    plt.title('animal vs fruit model loss')\n",
    "    plt.ylabel('loss')\n",
    "    plt.xlabel('epoch')\n",
    "    plt.legend(['train', 'test'], loc='upper left')\n",
    "    plt.show()\n",
    "    \n",
    "    plt.plot(history.history['class4_model_loss'])\n",
    "    plt.plot(history.history['val_class4_model_loss'])\n",
    "    plt.title('4 class model loss')\n",
    "    plt.ylabel('loss')\n",
    "    plt.xlabel('epoch')\n",
    "    plt.legend(['train', 'test'], loc='upper left')\n",
    "    plt.show()"
   ]
  },
  {
   "cell_type": "code",
   "execution_count": 21,
   "metadata": {
    "ExecuteTime": {
     "end_time": "2019-07-16T05:45:12.754270Z",
     "start_time": "2019-07-16T05:45:12.266276Z"
    }
   },
   "outputs": [
    {
     "name": "stdout",
     "output_type": "stream",
     "text": [
      "dict_keys(['val_loss', 'val_af_model_loss', 'val_class4_model_loss', 'val_af_model_acc', 'val_class4_model_acc', 'loss', 'af_model_loss', 'class4_model_loss', 'af_model_acc', 'class4_model_acc'])\n"
     ]
    },
    {
     "data": {
      "image/png": "[encoded data removed]",
      "text/plain": [
       "<Figure size 432x288 with 1 Axes>"
      ]
     },
     "metadata": {
      "needs_background": "light"
     },
     "output_type": "display_data"
    },
    {
     "data": {
      "image/png": "[encoded data removed]",
      "text/plain": [
       "<Figure size 432x288 with 1 Axes>"
      ]
     },
     "metadata": {
      "needs_background": "light"
     },
     "output_type": "display_data"
    },
    {
     "data": {
      "image/png": "[encoded data removed]",
      "text/plain": [
       "<Figure size 432x288 with 1 Axes>"
      ]
     },
     "metadata": {
      "needs_background": "light"
     },
     "output_type": "display_data"
    },
    {
     "data": {
      "image/png": "[encoded data removed]",
      "text/plain": [
       "<Figure size 432x288 with 1 Axes>"
      ]
     },
     "metadata": {
      "needs_background": "light"
     },
     "output_type": "display_data"
    }
   ],
   "source": [
    "plot_model_perf(history)"
   ]
  },
  {
   "cell_type": "markdown",
   "metadata": {
    "heading_collapsed": true
   },
   "source": [
    "## Bonus"
   ]
  },
  {
   "cell_type": "markdown",
   "metadata": {
    "hidden": true
   },
   "source": [
    "### Model architecture"
   ]
  },
  {
   "cell_type": "markdown",
   "metadata": {
    "hidden": true
   },
   "source": [
    "#### animal vs fruit model"
   ]
  },
  {
   "cell_type": "markdown",
   "metadata": {
    "hidden": true
   },
   "source": [
    "<img src=\"files/a_vs_f_model_plot.png\">"
   ]
  },
  {
   "cell_type": "markdown",
   "metadata": {
    "hidden": true
   },
   "source": [
    "#### 4 class classification model"
   ]
  },
  {
   "cell_type": "markdown",
   "metadata": {
    "hidden": true
   },
   "source": [
    "<img src=\"files/class4_model_plot.png\">"
   ]
  },
  {
   "cell_type": "markdown",
   "metadata": {
    "hidden": true
   },
   "source": [
    "#### Combined model"
   ]
  },
  {
   "cell_type": "markdown",
   "metadata": {
    "hidden": true
   },
   "source": [
    "<img src=\"files/comb_model_plot.png\">"
   ]
  },
  {
   "cell_type": "markdown",
   "metadata": {
    "heading_collapsed": true
   },
   "source": [
    "## Next steps"
   ]
  },
  {
   "cell_type": "markdown",
   "metadata": {
    "hidden": true
   },
   "source": [
    "1. Try training animal vs fruit model first, then freeze it and train the comnbined model.\n",
    "2. Playt with learning rate scheduling. Suppose 1E-4 is my base lr. Linearly increase lr from 1E-6 to 1E-4 over a period of 10 epochs (idea is to not take any catastrophic step while the model wights are still random), then hold the base rate for 30 epochs and finally bring it linearly down to 0 (idea is to take as small steps as possible when the model is stabilised).\n",
    "3. Add more data."
   ]
  }
 ],
 "metadata": {
  "kernelspec": {
   "display_name": "Python 3",
   "language": "python",
   "name": "python3"
  },
  "language_info": {
   "codemirror_mode": {
    "name": "ipython",
    "version": 3
   },
   "file_extension": ".py",
   "mimetype": "text/x-python",
   "name": "python",
   "nbconvert_exporter": "python",
   "pygments_lexer": "ipython3",
   "version": "3.6.7"
  }
 },
 "nbformat": 4,
 "nbformat_minor": 2
}
