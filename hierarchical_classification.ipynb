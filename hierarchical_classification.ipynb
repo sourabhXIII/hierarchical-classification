{
 "cells": [
  {
   "cell_type": "markdown",
   "metadata": {},
   "source": [
    "## Problem\n",
    "Build a Deep Learning classification model that takes the hierarchy into consideration.\n",
    "Take any 4 categories from the dataset (100 images each) such that there is a hierarchical relationship between them for eg:\n",
    "\n",
    "Animals\n",
    "- Dog\n",
    "- Cat\n",
    "\n",
    "~~Flowers~~ Fruits\n",
    "- ~~Rose~~ Grapes\n",
    "- ~~Sunflower~~ Pear\n",
    "\n",
    "Build a Classification model for the above 4 categories, such that the penalty of inter-category prediction is higher."
   ]
  },
  {
   "cell_type": "markdown",
   "metadata": {},
   "source": [
    "## Import stuff"
   ]
  },
  {
   "cell_type": "code",
   "execution_count": 91,
   "metadata": {
    "ExecuteTime": {
     "end_time": "2019-07-15T16:21:32.940997Z",
     "start_time": "2019-07-15T16:21:32.936984Z"
    }
   },
   "outputs": [],
   "source": [
    "import os\n",
    "import numpy as np\n",
    "import sys\n",
    "from PIL import Image\n",
    "import PIL.ImageOps\n",
    "\n",
    "from tqdm import tqdm_notebook\n",
    "from matplotlib import pyplot as plt\n",
    "import matplotlib.cm as cm\n",
    "import random\n",
    "\n",
    "import keras\n",
    "from keras import layers as L\n",
    "from keras import optimizers as opt\n",
    "from keras.preprocessing.image import ImageDataGenerator"
   ]
  },
  {
   "cell_type": "markdown",
   "metadata": {
    "ExecuteTime": {
     "end_time": "2019-07-15T10:36:46.332600Z",
     "start_time": "2019-07-15T10:36:46.330594Z"
    },
    "heading_collapsed": true
   },
   "source": [
    "## Extract and save the image files (28x28) from .npy files"
   ]
  },
  {
   "cell_type": "markdown",
   "metadata": {
    "hidden": true
   },
   "source": [
    "### Split the npy file and save images"
   ]
  },
  {
   "cell_type": "code",
   "execution_count": 95,
   "metadata": {
    "ExecuteTime": {
     "end_time": "2019-07-15T11:51:33.847612Z",
     "start_time": "2019-07-15T11:51:32.753433Z"
    },
    "collapsed": true,
    "hidden": true
   },
   "outputs": [
    {
     "name": "stdout",
     "output_type": "stream",
     "text": [
      "Available classes:\n",
      "['full_numpy_bitmap_cat.npy', 'full_numpy_bitmap_dog.npy', 'full_numpy_bitmap_grapes.npy', 'full_numpy_bitmap_pear.npy']\n",
      "Data from following classes will be unpacked:\n",
      "['full_numpy_bitmap_cat', 'full_numpy_bitmap_dog', 'full_numpy_bitmap_grapes', 'full_numpy_bitmap_pear']\n",
      "Processing file full_numpy_bitmap_cat.npy\n",
      "Saving in full_numpy_bitmap_cat\n",
      "\t Processing Image 101\n",
      "\t Processing Image 102\n",
      "\t Processing Image 103\n",
      "\t Processing Image 104\n",
      "\t Processing Image 105\n",
      "\t Processing Image 106\n",
      "\t Processing Image 107\n",
      "\t Processing Image 108\n",
      "\t Processing Image 109\n",
      "\t Processing Image 110\n",
      "\t Processing Image 111\n",
      "\t Processing Image 112\n",
      "\t Processing Image 113\n",
      "\t Processing Image 114\n",
      "\t Processing Image 115\n",
      "\t Processing Image 116\n",
      "\t Processing Image 117\n",
      "\t Processing Image 118\n",
      "\t Processing Image 119\n",
      "\t Processing Image 120\n",
      "\t Processing Image 121\n",
      "\t Processing Image 122\n",
      "\t Processing Image 123\n",
      "\t Processing Image 124\n",
      "\t Processing Image 125\n",
      "\t Processing Image 126\n",
      "\t Processing Image 127\n",
      "\t Processing Image 128\n",
      "\t Processing Image 129\n",
      "\t Processing Image 130\n",
      "\t Processing Image 131\n",
      "\t Processing Image 132\n",
      "\t Processing Image 133\n",
      "\t Processing Image 134\n",
      "\t Processing Image 135\n",
      "\t Processing Image 136\n",
      "\t Processing Image 137\n",
      "\t Processing Image 138\n",
      "\t Processing Image 139\n",
      "\t Processing Image 140\n",
      "\t Processing Image 141\n",
      "\t Processing Image 142\n",
      "\t Processing Image 143\n",
      "\t Processing Image 144\n",
      "\t Processing Image 145\n",
      "\t Processing Image 146\n",
      "\t Processing Image 147\n",
      "\t Processing Image 148\n",
      "\t Processing Image 149\n",
      "\t Processing Image 150\n",
      "\t Processing Image 151\n",
      "\t Processing Image 152\n",
      "\t Processing Image 153\n",
      "\t Processing Image 154\n",
      "\t Processing Image 155\n",
      "\t Processing Image 156\n",
      "\t Processing Image 157\n",
      "\t Processing Image 158\n",
      "\t Processing Image 159\n",
      "\t Processing Image 160\n",
      "\t Processing Image 161\n",
      "\t Processing Image 162\n",
      "\t Processing Image 163\n",
      "\t Processing Image 164\n",
      "\t Processing Image 165\n",
      "\t Processing Image 166\n",
      "\t Processing Image 167\n",
      "\t Processing Image 168\n",
      "\t Processing Image 169\n",
      "\t Processing Image 170\n",
      "\t Processing Image 171\n",
      "\t Processing Image 172\n",
      "\t Processing Image 173\n",
      "\t Processing Image 174\n",
      "\t Processing Image 175\n",
      "\t Processing Image 176\n",
      "\t Processing Image 177\n",
      "\t Processing Image 178\n",
      "\t Processing Image 179\n",
      "\t Processing Image 180\n",
      "\t Processing Image 181\n",
      "\t Processing Image 182\n",
      "\t Processing Image 183\n",
      "\t Processing Image 184\n",
      "\t Processing Image 185\n",
      "\t Processing Image 186\n",
      "\t Processing Image 187\n",
      "\t Processing Image 188\n",
      "\t Processing Image 189\n",
      "\t Processing Image 190\n",
      "\t Processing Image 191\n",
      "\t Processing Image 192\n",
      "\t Processing Image 193\n",
      "\t Processing Image 194\n",
      "\t Processing Image 195\n",
      "\t Processing Image 196\n",
      "\t Processing Image 197\n",
      "\t Processing Image 198\n",
      "\t Processing Image 199\n",
      "\t Processing Image 200\n",
      "Processing file full_numpy_bitmap_dog.npy\n",
      "Saving in full_numpy_bitmap_dog\n",
      "\t Processing Image 101\n",
      "\t Processing Image 102\n",
      "\t Processing Image 103\n",
      "\t Processing Image 104\n",
      "\t Processing Image 105\n",
      "\t Processing Image 106\n",
      "\t Processing Image 107\n",
      "\t Processing Image 108\n",
      "\t Processing Image 109\n",
      "\t Processing Image 110\n",
      "\t Processing Image 111\n",
      "\t Processing Image 112\n",
      "\t Processing Image 113\n",
      "\t Processing Image 114\n",
      "\t Processing Image 115\n",
      "\t Processing Image 116\n",
      "\t Processing Image 117\n",
      "\t Processing Image 118\n",
      "\t Processing Image 119\n",
      "\t Processing Image 120\n",
      "\t Processing Image 121\n",
      "\t Processing Image 122\n",
      "\t Processing Image 123\n",
      "\t Processing Image 124\n",
      "\t Processing Image 125\n",
      "\t Processing Image 126\n",
      "\t Processing Image 127\n",
      "\t Processing Image 128\n",
      "\t Processing Image 129\n",
      "\t Processing Image 130\n",
      "\t Processing Image 131\n",
      "\t Processing Image 132\n",
      "\t Processing Image 133\n",
      "\t Processing Image 134\n",
      "\t Processing Image 135\n",
      "\t Processing Image 136\n",
      "\t Processing Image 137\n",
      "\t Processing Image 138\n",
      "\t Processing Image 139\n",
      "\t Processing Image 140\n",
      "\t Processing Image 141\n",
      "\t Processing Image 142\n",
      "\t Processing Image 143\n",
      "\t Processing Image 144\n",
      "\t Processing Image 145\n",
      "\t Processing Image 146\n",
      "\t Processing Image 147\n",
      "\t Processing Image 148\n",
      "\t Processing Image 149\n",
      "\t Processing Image 150\n",
      "\t Processing Image 151\n",
      "\t Processing Image 152\n",
      "\t Processing Image 153\n",
      "\t Processing Image 154\n",
      "\t Processing Image 155\n",
      "\t Processing Image 156\n",
      "\t Processing Image 157\n",
      "\t Processing Image 158\n",
      "\t Processing Image 159\n",
      "\t Processing Image 160\n",
      "\t Processing Image 161\n",
      "\t Processing Image 162\n",
      "\t Processing Image 163\n",
      "\t Processing Image 164\n",
      "\t Processing Image 165\n",
      "\t Processing Image 166\n",
      "\t Processing Image 167\n",
      "\t Processing Image 168\n",
      "\t Processing Image 169\n",
      "\t Processing Image 170\n",
      "\t Processing Image 171\n",
      "\t Processing Image 172\n",
      "\t Processing Image 173\n",
      "\t Processing Image 174\n",
      "\t Processing Image 175\n",
      "\t Processing Image 176\n",
      "\t Processing Image 177\n",
      "\t Processing Image 178\n",
      "\t Processing Image 179\n",
      "\t Processing Image 180\n",
      "\t Processing Image 181\n",
      "\t Processing Image 182\n",
      "\t Processing Image 183\n",
      "\t Processing Image 184\n",
      "\t Processing Image 185\n",
      "\t Processing Image 186\n",
      "\t Processing Image 187\n",
      "\t Processing Image 188\n",
      "\t Processing Image 189\n",
      "\t Processing Image 190\n",
      "\t Processing Image 191\n",
      "\t Processing Image 192\n",
      "\t Processing Image 193\n",
      "\t Processing Image 194\n",
      "\t Processing Image 195\n",
      "\t Processing Image 196\n",
      "\t Processing Image 197\n",
      "\t Processing Image 198\n",
      "\t Processing Image 199\n",
      "\t Processing Image 200\n",
      "Processing file full_numpy_bitmap_grapes.npy\n",
      "Saving in full_numpy_bitmap_grapes\n",
      "\t Processing Image 101\n",
      "\t Processing Image 102\n",
      "\t Processing Image 103\n",
      "\t Processing Image 104\n",
      "\t Processing Image 105\n",
      "\t Processing Image 106\n",
      "\t Processing Image 107\n",
      "\t Processing Image 108\n",
      "\t Processing Image 109\n",
      "\t Processing Image 110\n",
      "\t Processing Image 111\n",
      "\t Processing Image 112\n",
      "\t Processing Image 113\n",
      "\t Processing Image 114\n",
      "\t Processing Image 115\n",
      "\t Processing Image 116\n",
      "\t Processing Image 117\n",
      "\t Processing Image 118\n",
      "\t Processing Image 119\n",
      "\t Processing Image 120\n",
      "\t Processing Image 121\n",
      "\t Processing Image 122\n",
      "\t Processing Image 123\n",
      "\t Processing Image 124\n",
      "\t Processing Image 125\n",
      "\t Processing Image 126\n",
      "\t Processing Image 127\n",
      "\t Processing Image 128\n",
      "\t Processing Image 129\n",
      "\t Processing Image 130\n",
      "\t Processing Image 131\n",
      "\t Processing Image 132\n",
      "\t Processing Image 133\n",
      "\t Processing Image 134\n",
      "\t Processing Image 135\n",
      "\t Processing Image 136\n",
      "\t Processing Image 137\n",
      "\t Processing Image 138\n",
      "\t Processing Image 139\n",
      "\t Processing Image 140\n",
      "\t Processing Image 141\n",
      "\t Processing Image 142\n",
      "\t Processing Image 143\n",
      "\t Processing Image 144\n",
      "\t Processing Image 145\n",
      "\t Processing Image 146\n",
      "\t Processing Image 147\n",
      "\t Processing Image 148\n",
      "\t Processing Image 149\n",
      "\t Processing Image 150\n",
      "\t Processing Image 151\n",
      "\t Processing Image 152\n",
      "\t Processing Image 153\n",
      "\t Processing Image 154\n",
      "\t Processing Image 155\n",
      "\t Processing Image 156\n",
      "\t Processing Image 157\n",
      "\t Processing Image 158\n",
      "\t Processing Image 159\n",
      "\t Processing Image 160\n",
      "\t Processing Image 161\n",
      "\t Processing Image 162\n",
      "\t Processing Image 163\n",
      "\t Processing Image 164\n",
      "\t Processing Image 165\n",
      "\t Processing Image 166\n",
      "\t Processing Image 167\n",
      "\t Processing Image 168\n",
      "\t Processing Image 169\n",
      "\t Processing Image 170\n",
      "\t Processing Image 171\n",
      "\t Processing Image 172\n",
      "\t Processing Image 173\n",
      "\t Processing Image 174\n",
      "\t Processing Image 175\n",
      "\t Processing Image 176\n",
      "\t Processing Image 177\n",
      "\t Processing Image 178\n",
      "\t Processing Image 179\n",
      "\t Processing Image 180\n",
      "\t Processing Image 181\n",
      "\t Processing Image 182\n",
      "\t Processing Image 183\n",
      "\t Processing Image 184\n",
      "\t Processing Image 185\n",
      "\t Processing Image 186\n",
      "\t Processing Image 187\n",
      "\t Processing Image 188\n",
      "\t Processing Image 189\n",
      "\t Processing Image 190\n",
      "\t Processing Image 191\n",
      "\t Processing Image 192\n",
      "\t Processing Image 193\n",
      "\t Processing Image 194\n",
      "\t Processing Image 195\n",
      "\t Processing Image 196\n",
      "\t Processing Image 197\n",
      "\t Processing Image 198\n",
      "\t Processing Image 199\n",
      "\t Processing Image 200\n",
      "Processing file full_numpy_bitmap_pear.npy\n",
      "Saving in full_numpy_bitmap_pear\n",
      "\t Processing Image 101\n",
      "\t Processing Image 102\n",
      "\t Processing Image 103\n",
      "\t Processing Image 104\n",
      "\t Processing Image 105\n",
      "\t Processing Image 106\n",
      "\t Processing Image 107\n",
      "\t Processing Image 108\n",
      "\t Processing Image 109\n",
      "\t Processing Image 110\n",
      "\t Processing Image 111\n",
      "\t Processing Image 112\n",
      "\t Processing Image 113\n",
      "\t Processing Image 114\n",
      "\t Processing Image 115\n",
      "\t Processing Image 116\n",
      "\t Processing Image 117\n",
      "\t Processing Image 118\n",
      "\t Processing Image 119\n",
      "\t Processing Image 120\n",
      "\t Processing Image 121\n",
      "\t Processing Image 122\n",
      "\t Processing Image 123\n",
      "\t Processing Image 124\n",
      "\t Processing Image 125\n",
      "\t Processing Image 126\n",
      "\t Processing Image 127\n",
      "\t Processing Image 128\n",
      "\t Processing Image 129\n",
      "\t Processing Image 130\n",
      "\t Processing Image 131\n",
      "\t Processing Image 132\n",
      "\t Processing Image 133\n",
      "\t Processing Image 134\n",
      "\t Processing Image 135\n",
      "\t Processing Image 136\n",
      "\t Processing Image 137\n",
      "\t Processing Image 138\n",
      "\t Processing Image 139\n",
      "\t Processing Image 140\n",
      "\t Processing Image 141\n",
      "\t Processing Image 142\n",
      "\t Processing Image 143\n",
      "\t Processing Image 144\n",
      "\t Processing Image 145\n"
     ]
    },
    {
     "name": "stdout",
     "output_type": "stream",
     "text": [
      "\t Processing Image 146\n",
      "\t Processing Image 147\n",
      "\t Processing Image 148\n",
      "\t Processing Image 149\n",
      "\t Processing Image 150\n",
      "\t Processing Image 151\n",
      "\t Processing Image 152\n",
      "\t Processing Image 153\n",
      "\t Processing Image 154\n",
      "\t Processing Image 155\n",
      "\t Processing Image 156\n",
      "\t Processing Image 157\n",
      "\t Processing Image 158\n",
      "\t Processing Image 159\n",
      "\t Processing Image 160\n",
      "\t Processing Image 161\n",
      "\t Processing Image 162\n",
      "\t Processing Image 163\n",
      "\t Processing Image 164\n",
      "\t Processing Image 165\n",
      "\t Processing Image 166\n",
      "\t Processing Image 167\n",
      "\t Processing Image 168\n",
      "\t Processing Image 169\n",
      "\t Processing Image 170\n",
      "\t Processing Image 171\n",
      "\t Processing Image 172\n",
      "\t Processing Image 173\n",
      "\t Processing Image 174\n",
      "\t Processing Image 175\n",
      "\t Processing Image 176\n",
      "\t Processing Image 177\n",
      "\t Processing Image 178\n",
      "\t Processing Image 179\n",
      "\t Processing Image 180\n",
      "\t Processing Image 181\n",
      "\t Processing Image 182\n",
      "\t Processing Image 183\n",
      "\t Processing Image 184\n",
      "\t Processing Image 185\n",
      "\t Processing Image 186\n",
      "\t Processing Image 187\n",
      "\t Processing Image 188\n",
      "\t Processing Image 189\n",
      "\t Processing Image 190\n",
      "\t Processing Image 191\n",
      "\t Processing Image 192\n",
      "\t Processing Image 193\n",
      "\t Processing Image 194\n",
      "\t Processing Image 195\n",
      "\t Processing Image 196\n",
      "\t Processing Image 197\n",
      "\t Processing Image 198\n",
      "\t Processing Image 199\n",
      "\t Processing Image 200\n"
     ]
    }
   ],
   "source": [
    "# used code from: https://github.com/C-Aniruddh/RapidDraw/blob/in-dev/processing/process_all.py\n",
    "\n",
    "number_images = 100; # Number of images in each category\n",
    "img_width, img_height = 28, 28\n",
    "\n",
    "\n",
    "npy_dir = '../data_dump/'\n",
    "out_dir = './data/'\n",
    "npy_files = [f for f in os.listdir(npy_dir) if os.path.isfile(os.path.join(npy_dir, f))]\n",
    "print('Available classes:')\n",
    "print(npy_files)\n",
    "\n",
    "categories = []\n",
    "\n",
    "for x in npy_files:\n",
    "    category_split = x.split('.')\n",
    "    category = category_split[0]\n",
    "    categories.append(category)\n",
    "    \n",
    "print('Data from following classes will be unpacked:')\n",
    "print(categories)\n",
    "\n",
    "for y in categories:\n",
    "    if not os.path.exists(os.path.join(out_dir, y)):\n",
    "        os.makedirs(os.path.join(out_dir, y))\n",
    "\n",
    "index_cat = 0\n",
    "for z in npy_files:\n",
    "    print('Processing file', z)\n",
    "    images = np.load(os.path.join(npy_dir, z))\n",
    "    print('Saving in', categories[index_cat])\n",
    "    number_imgs = range(0, number_images, 1)\n",
    "    for a in number_imgs:\n",
    "        print('\\t Processing Image', a+1)\n",
    "        file_name = '%s.jpg' % (a+1)\n",
    "        file_path = os.path.join(out_dir, categories[index_cat], file_name)\n",
    "        img = images[a].reshape(img_width, img_height)\n",
    "        f_img = Image.fromarray(img)\n",
    "        inverted_image = PIL.ImageOps.invert(f_img)\n",
    "        inverted_image.save(file_path, 'JPEG')\n",
    "    index_cat = index_cat + 1"
   ]
  },
  {
   "cell_type": "markdown",
   "metadata": {
    "hidden": true
   },
   "source": [
    "### Have a look at few training images"
   ]
  },
  {
   "cell_type": "code",
   "execution_count": 57,
   "metadata": {
    "ExecuteTime": {
     "end_time": "2019-07-15T11:18:39.706735Z",
     "start_time": "2019-07-15T11:18:39.168897Z"
    },
    "collapsed": true,
    "hidden": true
   },
   "outputs": [
    {
     "name": "stdout",
     "output_type": "stream",
     "text": [
      "full_numpy_bitmap_cat\n"
     ]
    },
    {
     "data": {
      "image/png": "[encoded data removed]",
      "text/plain": [
       "<Figure size 432x288 with 4 Axes>"
      ]
     },
     "metadata": {
      "needs_background": "light"
     },
     "output_type": "display_data"
    },
    {
     "name": "stdout",
     "output_type": "stream",
     "text": [
      "full_numpy_bitmap_dog\n"
     ]
    },
    {
     "data": {
      "image/png": "[encoded data removed]",
      "text/plain": [
       "<Figure size 432x288 with 4 Axes>"
      ]
     },
     "metadata": {
      "needs_background": "light"
     },
     "output_type": "display_data"
    },
    {
     "name": "stdout",
     "output_type": "stream",
     "text": [
      "full_numpy_bitmap_grapes\n"
     ]
    },
    {
     "data": {
      "image/png": "[encoded data removed]",
      "text/plain": [
       "<Figure size 432x288 with 4 Axes>"
      ]
     },
     "metadata": {
      "needs_background": "light"
     },
     "output_type": "display_data"
    },
    {
     "name": "stdout",
     "output_type": "stream",
     "text": [
      "full_numpy_bitmap_pear\n"
     ]
    },
    {
     "data": {
      "image/png": "[encoded data removed]",
      "text/plain": [
       "<Figure size 432x288 with 4 Axes>"
      ]
     },
     "metadata": {
      "needs_background": "light"
     },
     "output_type": "display_data"
    }
   ],
   "source": [
    "# randomly picks 4 images per class\n",
    "r, c = 2, 2\n",
    "for d in os.listdir(out_dir):\n",
    "    print(d)\n",
    "    fig, axs = plt.subplots(r, c)\n",
    "    cnt = 1\n",
    "    for i in range(r):\n",
    "        for j in range(c):\n",
    "            img = plt.imread(out_dir+d+'/'+str(random.randint(1, 100))+'.jpg')\n",
    "            axs[i, j].imshow(img, cmap=cm.gray)\n",
    "            axs[i, j].axis('off')\n",
    "            cnt += 1\n",
    "    plt.show()\n",
    "    plt.close()"
   ]
  },
  {
   "cell_type": "markdown",
   "metadata": {},
   "source": [
    "## Create and verify the data generator"
   ]
  },
  {
   "cell_type": "markdown",
   "metadata": {},
   "source": [
    "I chose to use a neural network to build the classifier. The reason is two-fold:\n",
    "- CNN based neural networks are historically proven to be very strong at image classification, identification tasks.\n",
    "- The test is on Deep Learning! ;-)\n",
    "\n",
    "So, My idea is to build a multi-task model. First it will try to classify images into $animal$ or $fruit$ classes and then it will further classify among the four classes ($dog$, $cat$, $grapes$, $pear$). "
   ]
  },
  {
   "cell_type": "code",
   "execution_count": 111,
   "metadata": {
    "ExecuteTime": {
     "end_time": "2019-07-15T16:35:27.197859Z",
     "start_time": "2019-07-15T16:35:27.193867Z"
    }
   },
   "outputs": [],
   "source": [
    "# few constants\n",
    "data_path = './data/'\n",
    "val_data_path = './val_data/'\n",
    "img_width, img_height, n_channel = 28, 28, 3\n",
    "img_shape = (img_width, img_height)\n",
    "batch_size = 32\n",
    "epoch = 20"
   ]
  },
  {
   "cell_type": "code",
   "execution_count": 112,
   "metadata": {
    "ExecuteTime": {
     "end_time": "2019-07-15T16:35:28.871322Z",
     "start_time": "2019-07-15T16:35:28.626318Z"
    }
   },
   "outputs": [
    {
     "name": "stdout",
     "output_type": "stream",
     "text": [
      "Found 400 images belonging to 4 classes.\n",
      "Found 400 images belonging to 4 classes.\n"
     ]
    }
   ],
   "source": [
    "# create a generator\n",
    "datagen = ImageDataGenerator(\n",
    "    rescale=1./255,\n",
    "    rotation_range=20,\n",
    "    width_shift_range=0.2,\n",
    "    height_shift_range=0.2,\n",
    "    horizontal_flip=True)\n",
    "train_generator = datagen.flow_from_directory(data_path, target_size=(img_width, img_height)\n",
    "                    , class_mode='categorical'\n",
    "                    , batch_size=batch_size, interpolation='nearest'\n",
    "                    , shuffle=True\n",
    "                   )\n",
    "val_generator = ImageDataGenerator(\n",
    "    rescale=1./255).flow_from_directory(val_data_path, target_size=(img_width, img_height)\n",
    "                    , class_mode='categorical'\n",
    "                    , batch_size=batch_size, interpolation='nearest'\n",
    "                    , shuffle=True\n",
    "                   )"
   ]
  },
  {
   "cell_type": "code",
   "execution_count": 113,
   "metadata": {
    "ExecuteTime": {
     "end_time": "2019-07-15T16:35:29.894366Z",
     "start_time": "2019-07-15T16:35:29.417895Z"
    }
   },
   "outputs": [
    {
     "name": "stdout",
     "output_type": "stream",
     "text": [
      "Shape of one batch of data:\n",
      "X shape:  (32, 28, 28, 3)\n",
      "y shape:  (32, 4)\n"
     ]
    },
    {
     "data": {
      "image/png": "[encoded data removed]",
      "text/plain": [
       "<Figure size 432x288 with 16 Axes>"
      ]
     },
     "metadata": {
      "needs_background": "light"
     },
     "output_type": "display_data"
    }
   ],
   "source": [
    "# test how my generator is doing\n",
    "X, y = next(train_generator) # ask for a batch\n",
    "\n",
    "print('Shape of one batch of data:')\n",
    "print('X shape: ', X.shape)\n",
    "print('y shape: ', y.shape)\n",
    "\n",
    "\n",
    "r, c = 4, 4 # lets not show entire batch, check rxc images\n",
    "imgs = X[:r*c]\n",
    "labels = y[:r*c]\n",
    "cnt = 0\n",
    "fig, axs = plt.subplots(r, c)\n",
    "for i in range(r):\n",
    "    for j in range(c):\n",
    "        img = imgs[cnt]\n",
    "        axs[i, j].imshow(img, cmap=cm.gray)\n",
    "        axs[i, j].axis('off')\n",
    "        axs[i, j].set_title(str(labels[cnt]))\n",
    "        cnt += 1\n",
    "plt.show()\n",
    "plt.close()\n"
   ]
  },
  {
   "cell_type": "markdown",
   "metadata": {},
   "source": [
    "## Build models"
   ]
  },
  {
   "cell_type": "code",
   "execution_count": 158,
   "metadata": {
    "ExecuteTime": {
     "end_time": "2019-07-15T17:20:11.286864Z",
     "start_time": "2019-07-15T17:20:11.283823Z"
    }
   },
   "outputs": [],
   "source": [
    "# some model realted constants\n",
    "latent_dim = 128\n",
    "epochs = 50\n",
    "num_a_f_update = 2"
   ]
  },
  {
   "cell_type": "code",
   "execution_count": 115,
   "metadata": {
    "ExecuteTime": {
     "end_time": "2019-07-15T16:35:33.070579Z",
     "start_time": "2019-07-15T16:35:33.065568Z"
    }
   },
   "outputs": [],
   "source": [
    "# build the animal vs fruit model\n",
    "def build_a_vs_f_model(input_dim=(img_width, img_height, n_channel), n_classes=2):\n",
    "    input_ = L.Input(shape=input_dim)\n",
    "    x = L.Conv2D(32, kernel_size=(3, 3), activation='relu')(input_)\n",
    "    x = L.Conv2D(64, kernel_size=(3, 3), activation='relu')(x)\n",
    "    x = L.MaxPooling2D(pool_size=(2, 2))(x)\n",
    "    x = L.Dropout(0.25)(x)\n",
    "    x = L.Flatten()(x)\n",
    "    x = L.Dense(latent_dim, activation='relu')(x)\n",
    "    feat = L.Dropout(0.5)(x)\n",
    "    pred = L.Dense(n_classes, activation='softmax')(feat)\n",
    "    # this is to classify animal vs fruit\n",
    "    af_model = keras.models.Model(inputs=input_, outputs=pred, name='af_model')\n",
    "    # idea is to use this layer output as a input feature to the 4 class classification problem\n",
    "    af_feature_model = keras.models.Model(inputs=input_, outputs=feat, name='feat_model')\n",
    "    \n",
    "    af_model.summary()\n",
    "    return af_model, af_feature_model"
   ]
  },
  {
   "cell_type": "code",
   "execution_count": 116,
   "metadata": {
    "ExecuteTime": {
     "end_time": "2019-07-15T16:35:33.910452Z",
     "start_time": "2019-07-15T16:35:33.904435Z"
    }
   },
   "outputs": [],
   "source": [
    "# build the 4 class classification model\n",
    "def build_4class_model(input_dim=(img_width, img_height, n_channel), n_classes=4, latent_dim=128):\n",
    "    input_img = L.Input(shape=input_dim)\n",
    "    x = L.Conv2D(32, kernel_size=(3, 3), activation='relu')(input_img)\n",
    "    x = L.Conv2D(64, kernel_size=(3, 3), activation='relu')(x)\n",
    "    x = L.MaxPooling2D(pool_size=(2, 2))(x)\n",
    "    x = L.Dropout(0.25)(x)\n",
    "    x = L.Flatten()(x)\n",
    "    x = L.Dense(128, activation='relu')(x)\n",
    "    \n",
    "    input_feat = L.Input(shape=(latent_dim,))\n",
    "    y = L.Concatenate()([x, input_feat])\n",
    "    y = L.Dense(128)(y)\n",
    "    y = L.Dropout(0.25)(y)\n",
    "    y = L.Dense(64)(y)\n",
    "    y = L.Dropout(0.25)(y)\n",
    "    y = L.Dense(32)(y)\n",
    "    y = L.Dropout(0.25)(y)\n",
    "    pred = L.Dense(n_classes, activation='softmax')(y)\n",
    "    model = keras.models.Model(inputs=[input_img, input_feat], outputs=pred, name='class4_model')\n",
    "    model.summary()\n",
    "\n",
    "    return model"
   ]
  },
  {
   "cell_type": "code",
   "execution_count": 117,
   "metadata": {
    "ExecuteTime": {
     "end_time": "2019-07-15T16:35:34.534175Z",
     "start_time": "2019-07-15T16:35:34.529161Z"
    }
   },
   "outputs": [],
   "source": [
    "def build_combined_model(feat_model, class4_model):\n",
    "    inputs = L.Input(shape=(img_width, img_height, n_channel))\n",
    "    feat = feat_model(inputs)\n",
    "    pred = class4_model([inputs, feat])\n",
    "    model = keras.models.Model(inputs=inputs, outputs=pred, name='comb_model')\n",
    "    model.summary()\n",
    "    return model"
   ]
  },
  {
   "cell_type": "code",
   "execution_count": 159,
   "metadata": {
    "ExecuteTime": {
     "end_time": "2019-07-15T17:20:14.404462Z",
     "start_time": "2019-07-15T17:20:14.394433Z"
    }
   },
   "outputs": [],
   "source": [
    "# now, time to train the model\n",
    "def train_model():\n",
    "    \n",
    "    # create models\n",
    "    a_vs_f_model, feat_model = build_a_vs_f_model()\n",
    "    class_4_model = build_4class_model()\n",
    "    combined_model = build_combined_model(feat_model, class_4_model)\n",
    "    \n",
    "    # get opts\n",
    "    a_vs_f_opt = opt.Adam(lr=1E-3, beta_1=0.9, beta_2=0.999, epsilon=1e-08)\n",
    "    comb_opt = opt.Adam(lr=1E-3, beta_1=0.9, beta_2=0.999, epsilon=1e-08)\n",
    "\n",
    "    a_vs_f_model.trainable = True\n",
    "    a_vs_f_model.compile(optimizer=a_vs_f_opt, loss='binary_crossentropy', metrics=['acc'])\n",
    "    \n",
    "    combined_model.compile(optimizer=comb_opt, loss='categorical_crossentropy', metrics=['acc'])\n",
    "    \n",
    "    print(a_vs_f_model.summary())\n",
    "    print(class_4_model.summary())\n",
    "    \n",
    "    # to track losses over epochs\n",
    "    a_vs_f_losses = []\n",
    "    class4_losses = []\n",
    "    comb_losses = []\n",
    "\n",
    "    \n",
    "    for epoch in tqdm_notebook(range(epochs)):\n",
    "        # to keep track of the losses for each epoch\n",
    "        batch_a_vs_f_losses = []\n",
    "        batch_class4_losses = []\n",
    "        batch_comb_losses = []\n",
    "        \n",
    "        for idx in tqdm_notebook(range(len(train_generator)), total=len(train_generator)):\n",
    "            batch_size = len(train_generator[idx][0])\n",
    "    \n",
    "            # this generator yields targets of shape (batch_size, 4)\n",
    "            X = train_generator[idx][0]\n",
    "            y_4c = train_generator[idx][1]\n",
    "            # class and how the target looks for y_4c\n",
    "            # cat     [1, 0, 0, 0]\n",
    "            # dog     [0, 1, 0, 0]\n",
    "            # grapes  [0, 0, 1, 0]\n",
    "            # pear    [0, 0, 0, 1]\n",
    "\n",
    "            # for a_vs_f model we need target of shape (batch_size, 2)\n",
    "            # class cat and dog -> [1, 0]\n",
    "            # class grapes and pear -> [0, 1]\n",
    "            # how class and the target should look for a_vs_f model\n",
    "            # cat     [1, 0]\n",
    "            # dog     [1, 0]\n",
    "            # grapes  [0, 1]\n",
    "            # pear    [0, 1]\n",
    "\n",
    "            y_a_f = np.zeros((y_4c.shape[0], 2))\n",
    "            for idx, y in enumerate(y_4c):\n",
    "                if np.all(y == [1, 0, 0, 0]) or np.all(y == [0, 1, 0, 0]):\n",
    "                    y_a_f[idx] = [1, 0]\n",
    "                else:\n",
    "                    y_a_f[idx] = [0, 1]\n",
    "\n",
    "            # some shape debugs\n",
    "            # print('Shape of one batch of data:')\n",
    "            # print('X shape: ', X.shape)\n",
    "            # print('4c y shape: ', y_4c.shape)\n",
    "            # print('y a vs f shape:', y_a_f.shape)\n",
    "\n",
    "            # we are here. we have data X, 4class taget y_4c and 2class target y_a_f\n",
    "            # time to train!\n",
    "\n",
    "            for _ in range(num_a_f_update):\n",
    "                a_vs_f_loss = a_vs_f_model.train_on_batch(X, y_a_f)\n",
    "                batch_a_vs_f_losses.append(a_vs_f_loss)\n",
    "\n",
    "            a_vs_f_model.trainable = False\n",
    "\n",
    "            comb_loss = combined_model.train_on_batch(X, y_4c)\n",
    "            batch_comb_losses.append(comb_loss)\n",
    "\n",
    "            a_vs_f_model.trainable = True\n",
    "\n",
    "            a_vs_f_losses.append(np.mean(batch_a_vs_f_losses))\n",
    "            comb_losses.append(np.mean(batch_comb_losses))\n",
    "        print(epoch, np.mean(batch_a_vs_f_losses), np.mean(batch_comb_losses))\n",
    "        \n",
    "    return a_vs_f_model, combined_model, a_vs_f_losses, comb_losses\n",
    "    "
   ]
  },
  {
   "cell_type": "code",
   "execution_count": 160,
   "metadata": {
    "ExecuteTime": {
     "end_time": "2019-07-15T17:24:35.545110Z",
     "start_time": "2019-07-15T17:20:15.516363Z"
    }
   },
   "outputs": [
    {
     "name": "stdout",
     "output_type": "stream",
     "text": [
      "_________________________________________________________________\n",
      "Layer (type)                 Output Shape              Param #   \n",
      "=================================================================\n",
      "input_76 (InputLayer)        (None, 28, 28, 3)         0         \n",
      "_________________________________________________________________\n",
      "conv2d_89 (Conv2D)           (None, 26, 26, 32)        896       \n",
      "_________________________________________________________________\n",
      "conv2d_90 (Conv2D)           (None, 24, 24, 64)        18496     \n",
      "_________________________________________________________________\n",
      "max_pooling2d_45 (MaxPooling (None, 12, 12, 64)        0         \n",
      "_________________________________________________________________\n",
      "dropout_115 (Dropout)        (None, 12, 12, 64)        0         \n",
      "_________________________________________________________________\n",
      "flatten_45 (Flatten)         (None, 9216)              0         \n",
      "_________________________________________________________________\n",
      "dense_131 (Dense)            (None, 128)               1179776   \n",
      "_________________________________________________________________\n",
      "dropout_116 (Dropout)        (None, 128)               0         \n",
      "_________________________________________________________________\n",
      "dense_132 (Dense)            (None, 2)                 258       \n",
      "=================================================================\n",
      "Total params: 1,199,426\n",
      "Trainable params: 1,199,426\n",
      "Non-trainable params: 0\n",
      "_________________________________________________________________\n",
      "__________________________________________________________________________________________________\n",
      "Layer (type)                    Output Shape         Param #     Connected to                     \n",
      "==================================================================================================\n",
      "input_77 (InputLayer)           (None, 28, 28, 3)    0                                            \n",
      "__________________________________________________________________________________________________\n",
      "conv2d_91 (Conv2D)              (None, 26, 26, 32)   896         input_77[0][0]                   \n",
      "__________________________________________________________________________________________________\n",
      "conv2d_92 (Conv2D)              (None, 24, 24, 64)   18496       conv2d_91[0][0]                  \n",
      "__________________________________________________________________________________________________\n",
      "max_pooling2d_46 (MaxPooling2D) (None, 12, 12, 64)   0           conv2d_92[0][0]                  \n",
      "__________________________________________________________________________________________________\n",
      "dropout_117 (Dropout)           (None, 12, 12, 64)   0           max_pooling2d_46[0][0]           \n",
      "__________________________________________________________________________________________________\n",
      "flatten_46 (Flatten)            (None, 9216)         0           dropout_117[0][0]                \n",
      "__________________________________________________________________________________________________\n",
      "dense_133 (Dense)               (None, 128)          1179776     flatten_46[0][0]                 \n",
      "__________________________________________________________________________________________________\n",
      "input_78 (InputLayer)           (None, 128)          0                                            \n",
      "__________________________________________________________________________________________________\n",
      "concatenate_17 (Concatenate)    (None, 256)          0           dense_133[0][0]                  \n",
      "                                                                 input_78[0][0]                   \n",
      "__________________________________________________________________________________________________\n",
      "dense_134 (Dense)               (None, 128)          32896       concatenate_17[0][0]             \n",
      "__________________________________________________________________________________________________\n",
      "dropout_118 (Dropout)           (None, 128)          0           dense_134[0][0]                  \n",
      "__________________________________________________________________________________________________\n",
      "dense_135 (Dense)               (None, 64)           8256        dropout_118[0][0]                \n",
      "__________________________________________________________________________________________________\n",
      "dropout_119 (Dropout)           (None, 64)           0           dense_135[0][0]                  \n",
      "__________________________________________________________________________________________________\n",
      "dense_136 (Dense)               (None, 32)           2080        dropout_119[0][0]                \n",
      "__________________________________________________________________________________________________\n",
      "dropout_120 (Dropout)           (None, 32)           0           dense_136[0][0]                  \n",
      "__________________________________________________________________________________________________\n",
      "dense_137 (Dense)               (None, 4)            132         dropout_120[0][0]                \n",
      "==================================================================================================\n",
      "Total params: 1,242,532\n",
      "Trainable params: 1,242,532\n",
      "Non-trainable params: 0\n",
      "__________________________________________________________________________________________________\n",
      "__________________________________________________________________________________________________\n",
      "Layer (type)                    Output Shape         Param #     Connected to                     \n",
      "==================================================================================================\n",
      "input_79 (InputLayer)           (None, 28, 28, 3)    0                                            \n",
      "__________________________________________________________________________________________________\n",
      "feat_model (Model)              (None, 128)          1199168     input_79[0][0]                   \n",
      "__________________________________________________________________________________________________\n",
      "class4_model (Model)            (None, 4)            1242532     input_79[0][0]                   \n",
      "                                                                 feat_model[1][0]                 \n",
      "==================================================================================================\n",
      "Total params: 2,441,700\n",
      "Trainable params: 2,441,700\n",
      "Non-trainable params: 0\n",
      "__________________________________________________________________________________________________\n",
      "_________________________________________________________________\n",
      "Layer (type)                 Output Shape              Param #   \n",
      "=================================================================\n",
      "input_76 (InputLayer)        (None, 28, 28, 3)         0         \n",
      "_________________________________________________________________\n",
      "conv2d_89 (Conv2D)           (None, 26, 26, 32)        896       \n",
      "_________________________________________________________________\n",
      "conv2d_90 (Conv2D)           (None, 24, 24, 64)        18496     \n",
      "_________________________________________________________________\n",
      "max_pooling2d_45 (MaxPooling (None, 12, 12, 64)        0         \n",
      "_________________________________________________________________\n",
      "dropout_115 (Dropout)        (None, 12, 12, 64)        0         \n",
      "_________________________________________________________________\n",
      "flatten_45 (Flatten)         (None, 9216)              0         \n",
      "_________________________________________________________________\n",
      "dense_131 (Dense)            (None, 128)               1179776   \n",
      "_________________________________________________________________\n",
      "dropout_116 (Dropout)        (None, 128)               0         \n",
      "_________________________________________________________________\n",
      "dense_132 (Dense)            (None, 2)                 258       \n",
      "=================================================================\n",
      "Total params: 1,199,426\n",
      "Trainable params: 1,199,426\n",
      "Non-trainable params: 0\n",
      "_________________________________________________________________\n",
      "None\n",
      "__________________________________________________________________________________________________\n",
      "Layer (type)                    Output Shape         Param #     Connected to                     \n"
     ]
    },
    {
     "name": "stdout",
     "output_type": "stream",
     "text": [
      "==================================================================================================\n",
      "input_77 (InputLayer)           (None, 28, 28, 3)    0                                            \n",
      "__________________________________________________________________________________________________\n",
      "conv2d_91 (Conv2D)              (None, 26, 26, 32)   896         input_77[0][0]                   \n",
      "__________________________________________________________________________________________________\n",
      "conv2d_92 (Conv2D)              (None, 24, 24, 64)   18496       conv2d_91[0][0]                  \n",
      "__________________________________________________________________________________________________\n",
      "max_pooling2d_46 (MaxPooling2D) (None, 12, 12, 64)   0           conv2d_92[0][0]                  \n",
      "__________________________________________________________________________________________________\n",
      "dropout_117 (Dropout)           (None, 12, 12, 64)   0           max_pooling2d_46[0][0]           \n",
      "__________________________________________________________________________________________________\n",
      "flatten_46 (Flatten)            (None, 9216)         0           dropout_117[0][0]                \n",
      "__________________________________________________________________________________________________\n",
      "dense_133 (Dense)               (None, 128)          1179776     flatten_46[0][0]                 \n",
      "__________________________________________________________________________________________________\n",
      "input_78 (InputLayer)           (None, 128)          0                                            \n",
      "__________________________________________________________________________________________________\n",
      "concatenate_17 (Concatenate)    (None, 256)          0           dense_133[0][0]                  \n",
      "                                                                 input_78[0][0]                   \n",
      "__________________________________________________________________________________________________\n",
      "dense_134 (Dense)               (None, 128)          32896       concatenate_17[0][0]             \n",
      "__________________________________________________________________________________________________\n",
      "dropout_118 (Dropout)           (None, 128)          0           dense_134[0][0]                  \n",
      "__________________________________________________________________________________________________\n",
      "dense_135 (Dense)               (None, 64)           8256        dropout_118[0][0]                \n",
      "__________________________________________________________________________________________________\n",
      "dropout_119 (Dropout)           (None, 64)           0           dense_135[0][0]                  \n",
      "__________________________________________________________________________________________________\n",
      "dense_136 (Dense)               (None, 32)           2080        dropout_119[0][0]                \n",
      "__________________________________________________________________________________________________\n",
      "dropout_120 (Dropout)           (None, 32)           0           dense_136[0][0]                  \n",
      "__________________________________________________________________________________________________\n",
      "dense_137 (Dense)               (None, 4)            132         dropout_120[0][0]                \n",
      "==================================================================================================\n",
      "Total params: 1,242,532\n",
      "Trainable params: 1,242,532\n",
      "Non-trainable params: 0\n",
      "__________________________________________________________________________________________________\n",
      "None\n"
     ]
    },
    {
     "data": {
      "application/vnd.jupyter.widget-view+json": {
       "model_id": "aebb9d9241d649b7b5f5764e472edb2d",
       "version_major": 2,
       "version_minor": 0
      },
      "text/plain": [
       "HBox(children=(IntProgress(value=0, max=50), HTML(value='')))"
      ]
     },
     "metadata": {},
     "output_type": "display_data"
    },
    {
     "data": {
      "application/vnd.jupyter.widget-view+json": {
       "model_id": "425907feae874d7aa1f8183ff17950e0",
       "version_major": 2,
       "version_minor": 0
      },
      "text/plain": [
       "HBox(children=(IntProgress(value=0, max=13), HTML(value='')))"
      ]
     },
     "metadata": {},
     "output_type": "display_data"
    },
    {
     "name": "stdout",
     "output_type": "stream",
     "text": [
      "0 0.66108197 0.89946294\n"
     ]
    },
    {
     "data": {
      "application/vnd.jupyter.widget-view+json": {
       "model_id": "1a2482960d3f4826808443a4d0e36fc0",
       "version_major": 2,
       "version_minor": 0
      },
      "text/plain": [
       "HBox(children=(IntProgress(value=0, max=13), HTML(value='')))"
      ]
     },
     "metadata": {},
     "output_type": "display_data"
    },
    {
     "name": "stdout",
     "output_type": "stream",
     "text": [
      "1 0.6458694 0.8332708\n"
     ]
    },
    {
     "data": {
      "application/vnd.jupyter.widget-view+json": {
       "model_id": "2b65abf015524b72b38220c312a8dbcb",
       "version_major": 2,
       "version_minor": 0
      },
      "text/plain": [
       "HBox(children=(IntProgress(value=0, max=13), HTML(value='')))"
      ]
     },
     "metadata": {},
     "output_type": "display_data"
    },
    {
     "name": "stdout",
     "output_type": "stream",
     "text": [
      "2 0.6308066 0.8403832\n"
     ]
    },
    {
     "data": {
      "application/vnd.jupyter.widget-view+json": {
       "model_id": "9df84203789c406d96d33e6922e56185",
       "version_major": 2,
       "version_minor": 0
      },
      "text/plain": [
       "HBox(children=(IntProgress(value=0, max=13), HTML(value='')))"
      ]
     },
     "metadata": {},
     "output_type": "display_data"
    },
    {
     "name": "stdout",
     "output_type": "stream",
     "text": [
      "3 0.6429522 0.81015366\n"
     ]
    },
    {
     "data": {
      "application/vnd.jupyter.widget-view+json": {
       "model_id": "90d39e1f594c465ead6bd393336a32b0",
       "version_major": 2,
       "version_minor": 0
      },
      "text/plain": [
       "HBox(children=(IntProgress(value=0, max=13), HTML(value='')))"
      ]
     },
     "metadata": {},
     "output_type": "display_data"
    },
    {
     "name": "stdout",
     "output_type": "stream",
     "text": [
      "4 0.6278258 0.79923767\n"
     ]
    },
    {
     "data": {
      "application/vnd.jupyter.widget-view+json": {
       "model_id": "fd765bb2a7df427abf656f081be427e1",
       "version_major": 2,
       "version_minor": 0
      },
      "text/plain": [
       "HBox(children=(IntProgress(value=0, max=13), HTML(value='')))"
      ]
     },
     "metadata": {},
     "output_type": "display_data"
    },
    {
     "name": "stdout",
     "output_type": "stream",
     "text": [
      "5 0.621136 0.77095\n"
     ]
    },
    {
     "data": {
      "application/vnd.jupyter.widget-view+json": {
       "model_id": "cc6f000ae9a04d19a28a5ace5901dffc",
       "version_major": 2,
       "version_minor": 0
      },
      "text/plain": [
       "HBox(children=(IntProgress(value=0, max=13), HTML(value='')))"
      ]
     },
     "metadata": {},
     "output_type": "display_data"
    },
    {
     "name": "stdout",
     "output_type": "stream",
     "text": [
      "6 0.62550443 0.7620357\n"
     ]
    },
    {
     "data": {
      "application/vnd.jupyter.widget-view+json": {
       "model_id": "0237004f1d2d4c14a12ff6a2b29807fb",
       "version_major": 2,
       "version_minor": 0
      },
      "text/plain": [
       "HBox(children=(IntProgress(value=0, max=13), HTML(value='')))"
      ]
     },
     "metadata": {},
     "output_type": "display_data"
    },
    {
     "name": "stdout",
     "output_type": "stream",
     "text": [
      "7 0.6226394 0.7790488\n"
     ]
    },
    {
     "data": {
      "application/vnd.jupyter.widget-view+json": {
       "model_id": "7a6ee38963c64e6cb7ef005d61543c43",
       "version_major": 2,
       "version_minor": 0
      },
      "text/plain": [
       "HBox(children=(IntProgress(value=0, max=13), HTML(value='')))"
      ]
     },
     "metadata": {},
     "output_type": "display_data"
    },
    {
     "name": "stdout",
     "output_type": "stream",
     "text": [
      "8 0.61815333 0.7527669\n"
     ]
    },
    {
     "data": {
      "application/vnd.jupyter.widget-view+json": {
       "model_id": "f062c2e707f54479861887e40a7faf43",
       "version_major": 2,
       "version_minor": 0
      },
      "text/plain": [
       "HBox(children=(IntProgress(value=0, max=13), HTML(value='')))"
      ]
     },
     "metadata": {},
     "output_type": "display_data"
    },
    {
     "name": "stdout",
     "output_type": "stream",
     "text": [
      "9 0.61818707 0.75101334\n"
     ]
    },
    {
     "data": {
      "application/vnd.jupyter.widget-view+json": {
       "model_id": "2d3048fdf15e4d69aecd27c77413f137",
       "version_major": 2,
       "version_minor": 0
      },
      "text/plain": [
       "HBox(children=(IntProgress(value=0, max=13), HTML(value='')))"
      ]
     },
     "metadata": {},
     "output_type": "display_data"
    },
    {
     "name": "stdout",
     "output_type": "stream",
     "text": [
      "10 0.61555713 0.72439134\n"
     ]
    },
    {
     "data": {
      "application/vnd.jupyter.widget-view+json": {
       "model_id": "cbcd76d417a4441f93d41684ab98208a",
       "version_major": 2,
       "version_minor": 0
      },
      "text/plain": [
       "HBox(children=(IntProgress(value=0, max=13), HTML(value='')))"
      ]
     },
     "metadata": {},
     "output_type": "display_data"
    },
    {
     "name": "stdout",
     "output_type": "stream",
     "text": [
      "11 0.59895337 0.7300214\n"
     ]
    },
    {
     "data": {
      "application/vnd.jupyter.widget-view+json": {
       "model_id": "0425f92dd4be4c6eb8d0e63f16ac1478",
       "version_major": 2,
       "version_minor": 0
      },
      "text/plain": [
       "HBox(children=(IntProgress(value=0, max=13), HTML(value='')))"
      ]
     },
     "metadata": {},
     "output_type": "display_data"
    },
    {
     "name": "stdout",
     "output_type": "stream",
     "text": [
      "12 0.6106154 0.7018537\n"
     ]
    },
    {
     "data": {
      "application/vnd.jupyter.widget-view+json": {
       "model_id": "70cb974069c34f92be7f82f8e84e862c",
       "version_major": 2,
       "version_minor": 0
      },
      "text/plain": [
       "HBox(children=(IntProgress(value=0, max=13), HTML(value='')))"
      ]
     },
     "metadata": {},
     "output_type": "display_data"
    },
    {
     "name": "stdout",
     "output_type": "stream",
     "text": [
      "13 0.6026264 0.71941465\n"
     ]
    },
    {
     "data": {
      "application/vnd.jupyter.widget-view+json": {
       "model_id": "143100c81a8f44a488eb6d9a7e61b87a",
       "version_major": 2,
       "version_minor": 0
      },
      "text/plain": [
       "HBox(children=(IntProgress(value=0, max=13), HTML(value='')))"
      ]
     },
     "metadata": {},
     "output_type": "display_data"
    },
    {
     "name": "stdout",
     "output_type": "stream",
     "text": [
      "14 0.5993612 0.7021374\n"
     ]
    },
    {
     "data": {
      "application/vnd.jupyter.widget-view+json": {
       "model_id": "b32e9b15039e4711b6497ab0c810e416",
       "version_major": 2,
       "version_minor": 0
      },
      "text/plain": [
       "HBox(children=(IntProgress(value=0, max=13), HTML(value='')))"
      ]
     },
     "metadata": {},
     "output_type": "display_data"
    },
    {
     "name": "stdout",
     "output_type": "stream",
     "text": [
      "15 0.6067218 0.7151929\n"
     ]
    },
    {
     "data": {
      "application/vnd.jupyter.widget-view+json": {
       "model_id": "a102b8c8f3a3444b95746df387669134",
       "version_major": 2,
       "version_minor": 0
      },
      "text/plain": [
       "HBox(children=(IntProgress(value=0, max=13), HTML(value='')))"
      ]
     },
     "metadata": {},
     "output_type": "display_data"
    },
    {
     "name": "stdout",
     "output_type": "stream",
     "text": [
      "16 0.59735376 0.68616\n"
     ]
    },
    {
     "data": {
      "application/vnd.jupyter.widget-view+json": {
       "model_id": "e96754557f0f4240bed07a649035c26c",
       "version_major": 2,
       "version_minor": 0
      },
      "text/plain": [
       "HBox(children=(IntProgress(value=0, max=13), HTML(value='')))"
      ]
     },
     "metadata": {},
     "output_type": "display_data"
    },
    {
     "name": "stdout",
     "output_type": "stream",
     "text": [
      "17 0.58853656 0.7034308\n"
     ]
    },
    {
     "data": {
      "application/vnd.jupyter.widget-view+json": {
       "model_id": "949498a8d3f84cd59f2f8a7496a4a25e",
       "version_major": 2,
       "version_minor": 0
      },
      "text/plain": [
       "HBox(children=(IntProgress(value=0, max=13), HTML(value='')))"
      ]
     },
     "metadata": {},
     "output_type": "display_data"
    },
    {
     "name": "stdout",
     "output_type": "stream",
     "text": [
      "18 0.6039202 0.70962787\n"
     ]
    },
    {
     "data": {
      "application/vnd.jupyter.widget-view+json": {
       "model_id": "7ba69fe360c14850a095728243a0e4e6",
       "version_major": 2,
       "version_minor": 0
      },
      "text/plain": [
       "HBox(children=(IntProgress(value=0, max=13), HTML(value='')))"
      ]
     },
     "metadata": {},
     "output_type": "display_data"
    },
    {
     "name": "stdout",
     "output_type": "stream",
     "text": [
      "19 0.599931 0.6997379\n"
     ]
    },
    {
     "data": {
      "application/vnd.jupyter.widget-view+json": {
       "model_id": "53c45e9caaaf46d9a0c54b6b74dfe89e",
       "version_major": 2,
       "version_minor": 0
      },
      "text/plain": [
       "HBox(children=(IntProgress(value=0, max=13), HTML(value='')))"
      ]
     },
     "metadata": {},
     "output_type": "display_data"
    },
    {
     "name": "stdout",
     "output_type": "stream",
     "text": [
      "20 0.5947271 0.70148206\n"
     ]
    },
    {
     "data": {
      "application/vnd.jupyter.widget-view+json": {
       "model_id": "2e276ff988a14d2b8f676b385980b007",
       "version_major": 2,
       "version_minor": 0
      },
      "text/plain": [
       "HBox(children=(IntProgress(value=0, max=13), HTML(value='')))"
      ]
     },
     "metadata": {},
     "output_type": "display_data"
    },
    {
     "name": "stdout",
     "output_type": "stream",
     "text": [
      "21 0.5985383 0.6857696\n"
     ]
    },
    {
     "data": {
      "application/vnd.jupyter.widget-view+json": {
       "model_id": "0708b11d2ab5491287984b70405f58fb",
       "version_major": 2,
       "version_minor": 0
      },
      "text/plain": [
       "HBox(children=(IntProgress(value=0, max=13), HTML(value='')))"
      ]
     },
     "metadata": {},
     "output_type": "display_data"
    },
    {
     "name": "stdout",
     "output_type": "stream",
     "text": [
      "22 0.5829197 0.6865618\n"
     ]
    },
    {
     "data": {
      "application/vnd.jupyter.widget-view+json": {
       "model_id": "af6a12f7c5dc4a67b15b596f2dd1c9f5",
       "version_major": 2,
       "version_minor": 0
      },
      "text/plain": [
       "HBox(children=(IntProgress(value=0, max=13), HTML(value='')))"
      ]
     },
     "metadata": {},
     "output_type": "display_data"
    },
    {
     "name": "stdout",
     "output_type": "stream",
     "text": [
      "23 0.58594596 0.67117846\n"
     ]
    },
    {
     "data": {
      "application/vnd.jupyter.widget-view+json": {
       "model_id": "41fb47d985874d638796d3e9d54084e9",
       "version_major": 2,
       "version_minor": 0
      },
      "text/plain": [
       "HBox(children=(IntProgress(value=0, max=13), HTML(value='')))"
      ]
     },
     "metadata": {},
     "output_type": "display_data"
    },
    {
     "name": "stdout",
     "output_type": "stream",
     "text": [
      "24 0.59377885 0.67953616\n"
     ]
    },
    {
     "data": {
      "application/vnd.jupyter.widget-view+json": {
       "model_id": "886cf1666a4f40bf95a80b8624cae7b2",
       "version_major": 2,
       "version_minor": 0
      },
      "text/plain": [
       "HBox(children=(IntProgress(value=0, max=13), HTML(value='')))"
      ]
     },
     "metadata": {},
     "output_type": "display_data"
    },
    {
     "name": "stdout",
     "output_type": "stream",
     "text": [
      "25 0.58404076 0.6808209\n"
     ]
    },
    {
     "data": {
      "application/vnd.jupyter.widget-view+json": {
       "model_id": "726a427c3b484bd5a981483bddf9ef87",
       "version_major": 2,
       "version_minor": 0
      },
      "text/plain": [
       "HBox(children=(IntProgress(value=0, max=13), HTML(value='')))"
      ]
     },
     "metadata": {},
     "output_type": "display_data"
    },
    {
     "name": "stdout",
     "output_type": "stream",
     "text": [
      "26 0.59655887 0.70126814\n"
     ]
    },
    {
     "data": {
      "application/vnd.jupyter.widget-view+json": {
       "model_id": "5f8c76dd78ef4d8fa069a86b66156c2f",
       "version_major": 2,
       "version_minor": 0
      },
      "text/plain": [
       "HBox(children=(IntProgress(value=0, max=13), HTML(value='')))"
      ]
     },
     "metadata": {},
     "output_type": "display_data"
    },
    {
     "name": "stdout",
     "output_type": "stream",
     "text": [
      "27 0.5766632 0.6932418\n"
     ]
    },
    {
     "data": {
      "application/vnd.jupyter.widget-view+json": {
       "model_id": "9f1f6f5252ee46678093c6326f3cabfc",
       "version_major": 2,
       "version_minor": 0
      },
      "text/plain": [
       "HBox(children=(IntProgress(value=0, max=13), HTML(value='')))"
      ]
     },
     "metadata": {},
     "output_type": "display_data"
    },
    {
     "name": "stdout",
     "output_type": "stream",
     "text": [
      "28 0.57425874 0.65451187\n"
     ]
    },
    {
     "data": {
      "application/vnd.jupyter.widget-view+json": {
       "model_id": "12b73a0e191b4392b39b007c41f3db3c",
       "version_major": 2,
       "version_minor": 0
      },
      "text/plain": [
       "HBox(children=(IntProgress(value=0, max=13), HTML(value='')))"
      ]
     },
     "metadata": {},
     "output_type": "display_data"
    },
    {
     "name": "stdout",
     "output_type": "stream",
     "text": [
      "29 0.59434074 0.68135774\n"
     ]
    },
    {
     "data": {
      "application/vnd.jupyter.widget-view+json": {
       "model_id": "77e9837bf7e649f5987fbd682249d488",
       "version_major": 2,
       "version_minor": 0
      },
      "text/plain": [
       "HBox(children=(IntProgress(value=0, max=13), HTML(value='')))"
      ]
     },
     "metadata": {},
     "output_type": "display_data"
    },
    {
     "name": "stdout",
     "output_type": "stream",
     "text": [
      "30 0.5833709 0.6885407\n"
     ]
    },
    {
     "data": {
      "application/vnd.jupyter.widget-view+json": {
       "model_id": "8e5c98c0f2814d76ab9425faeafba214",
       "version_major": 2,
       "version_minor": 0
      },
      "text/plain": [
       "HBox(children=(IntProgress(value=0, max=13), HTML(value='')))"
      ]
     },
     "metadata": {},
     "output_type": "display_data"
    },
    {
     "name": "stdout",
     "output_type": "stream",
     "text": [
      "31 0.58684456 0.6796855\n"
     ]
    },
    {
     "data": {
      "application/vnd.jupyter.widget-view+json": {
       "model_id": "35879af9fae34dcca2fe2b7fda6b61d4",
       "version_major": 2,
       "version_minor": 0
      },
      "text/plain": [
       "HBox(children=(IntProgress(value=0, max=13), HTML(value='')))"
      ]
     },
     "metadata": {},
     "output_type": "display_data"
    },
    {
     "name": "stdout",
     "output_type": "stream",
     "text": [
      "32 0.5929377 0.66904575\n"
     ]
    },
    {
     "data": {
      "application/vnd.jupyter.widget-view+json": {
       "model_id": "badabb32e436419095af6a8e1136b434",
       "version_major": 2,
       "version_minor": 0
      },
      "text/plain": [
       "HBox(children=(IntProgress(value=0, max=13), HTML(value='')))"
      ]
     },
     "metadata": {},
     "output_type": "display_data"
    },
    {
     "name": "stdout",
     "output_type": "stream",
     "text": [
      "33 0.5718031 0.6792643\n"
     ]
    },
    {
     "data": {
      "application/vnd.jupyter.widget-view+json": {
       "model_id": "14758cd31d6545eabb60eb61ad7d3ef9",
       "version_major": 2,
       "version_minor": 0
      },
      "text/plain": [
       "HBox(children=(IntProgress(value=0, max=13), HTML(value='')))"
      ]
     },
     "metadata": {},
     "output_type": "display_data"
    },
    {
     "name": "stdout",
     "output_type": "stream",
     "text": [
      "34 0.58228266 0.6955343\n"
     ]
    },
    {
     "data": {
      "application/vnd.jupyter.widget-view+json": {
       "model_id": "858098ba76c044a3bc79284dd1009348",
       "version_major": 2,
       "version_minor": 0
      },
      "text/plain": [
       "HBox(children=(IntProgress(value=0, max=13), HTML(value='')))"
      ]
     },
     "metadata": {},
     "output_type": "display_data"
    },
    {
     "name": "stdout",
     "output_type": "stream",
     "text": [
      "35 0.5753678 0.65765214\n"
     ]
    },
    {
     "data": {
      "application/vnd.jupyter.widget-view+json": {
       "model_id": "206a9656c95f456f9ebdbd18ae9543be",
       "version_major": 2,
       "version_minor": 0
      },
      "text/plain": [
       "HBox(children=(IntProgress(value=0, max=13), HTML(value='')))"
      ]
     },
     "metadata": {},
     "output_type": "display_data"
    },
    {
     "name": "stdout",
     "output_type": "stream",
     "text": [
      "36 0.5816511 0.6815333\n"
     ]
    },
    {
     "data": {
      "application/vnd.jupyter.widget-view+json": {
       "model_id": "2d936527c27449e5abb54b6edbc77047",
       "version_major": 2,
       "version_minor": 0
      },
      "text/plain": [
       "HBox(children=(IntProgress(value=0, max=13), HTML(value='')))"
      ]
     },
     "metadata": {},
     "output_type": "display_data"
    },
    {
     "name": "stdout",
     "output_type": "stream",
     "text": [
      "37 0.5807718 0.6682509\n"
     ]
    },
    {
     "data": {
      "application/vnd.jupyter.widget-view+json": {
       "model_id": "886f837fe55e4122ab0c9d99a685426a",
       "version_major": 2,
       "version_minor": 0
      },
      "text/plain": [
       "HBox(children=(IntProgress(value=0, max=13), HTML(value='')))"
      ]
     },
     "metadata": {},
     "output_type": "display_data"
    },
    {
     "name": "stdout",
     "output_type": "stream",
     "text": [
      "38 0.58003503 0.66884625\n"
     ]
    },
    {
     "data": {
      "application/vnd.jupyter.widget-view+json": {
       "model_id": "7c0c0e2d2ba249d7a909c1fa41c40234",
       "version_major": 2,
       "version_minor": 0
      },
      "text/plain": [
       "HBox(children=(IntProgress(value=0, max=13), HTML(value='')))"
      ]
     },
     "metadata": {},
     "output_type": "display_data"
    },
    {
     "name": "stdout",
     "output_type": "stream",
     "text": [
      "39 0.57697535 0.67180514\n"
     ]
    },
    {
     "data": {
      "application/vnd.jupyter.widget-view+json": {
       "model_id": "41ea49aa20a142f28be5a4b78f795aad",
       "version_major": 2,
       "version_minor": 0
      },
      "text/plain": [
       "HBox(children=(IntProgress(value=0, max=13), HTML(value='')))"
      ]
     },
     "metadata": {},
     "output_type": "display_data"
    },
    {
     "name": "stdout",
     "output_type": "stream",
     "text": [
      "40 0.5812541 0.6689564\n"
     ]
    },
    {
     "data": {
      "application/vnd.jupyter.widget-view+json": {
       "model_id": "255554959640434792beff259e61f716",
       "version_major": 2,
       "version_minor": 0
      },
      "text/plain": [
       "HBox(children=(IntProgress(value=0, max=13), HTML(value='')))"
      ]
     },
     "metadata": {},
     "output_type": "display_data"
    },
    {
     "name": "stdout",
     "output_type": "stream",
     "text": [
      "41 0.58136755 0.6585233\n"
     ]
    },
    {
     "data": {
      "application/vnd.jupyter.widget-view+json": {
       "model_id": "a8f36eac8128434094f1342bf6646403",
       "version_major": 2,
       "version_minor": 0
      },
      "text/plain": [
       "HBox(children=(IntProgress(value=0, max=13), HTML(value='')))"
      ]
     },
     "metadata": {},
     "output_type": "display_data"
    },
    {
     "name": "stdout",
     "output_type": "stream",
     "text": [
      "42 0.58320993 0.658423\n"
     ]
    },
    {
     "data": {
      "application/vnd.jupyter.widget-view+json": {
       "model_id": "ec518105539b46b49e00c8262c41e680",
       "version_major": 2,
       "version_minor": 0
      },
      "text/plain": [
       "HBox(children=(IntProgress(value=0, max=13), HTML(value='')))"
      ]
     },
     "metadata": {},
     "output_type": "display_data"
    },
    {
     "name": "stdout",
     "output_type": "stream",
     "text": [
      "43 0.56859505 0.6689774\n"
     ]
    },
    {
     "data": {
      "application/vnd.jupyter.widget-view+json": {
       "model_id": "cb54691f298b401ab4717aa218137c21",
       "version_major": 2,
       "version_minor": 0
      },
      "text/plain": [
       "HBox(children=(IntProgress(value=0, max=13), HTML(value='')))"
      ]
     },
     "metadata": {},
     "output_type": "display_data"
    },
    {
     "name": "stdout",
     "output_type": "stream",
     "text": [
      "44 0.58274955 0.6790265\n"
     ]
    },
    {
     "data": {
      "application/vnd.jupyter.widget-view+json": {
       "model_id": "3cc3d677a7424e79860d61dae12d5d8b",
       "version_major": 2,
       "version_minor": 0
      },
      "text/plain": [
       "HBox(children=(IntProgress(value=0, max=13), HTML(value='')))"
      ]
     },
     "metadata": {},
     "output_type": "display_data"
    },
    {
     "name": "stdout",
     "output_type": "stream",
     "text": [
      "45 0.5750325 0.6550613\n"
     ]
    },
    {
     "data": {
      "application/vnd.jupyter.widget-view+json": {
       "model_id": "2029959852c047a5a99299b5d5b9a7c4",
       "version_major": 2,
       "version_minor": 0
      },
      "text/plain": [
       "HBox(children=(IntProgress(value=0, max=13), HTML(value='')))"
      ]
     },
     "metadata": {},
     "output_type": "display_data"
    },
    {
     "name": "stdout",
     "output_type": "stream",
     "text": [
      "46 0.57803905 0.66455054\n"
     ]
    },
    {
     "data": {
      "application/vnd.jupyter.widget-view+json": {
       "model_id": "81176c642e6b43e7a41efd85b3d18f73",
       "version_major": 2,
       "version_minor": 0
      },
      "text/plain": [
       "HBox(children=(IntProgress(value=0, max=13), HTML(value='')))"
      ]
     },
     "metadata": {},
     "output_type": "display_data"
    },
    {
     "name": "stdout",
     "output_type": "stream",
     "text": [
      "47 0.5846336 0.6657886\n"
     ]
    },
    {
     "data": {
      "application/vnd.jupyter.widget-view+json": {
       "model_id": "fccc2fa2a86a47ad8a6bed83a4dfdd3d",
       "version_major": 2,
       "version_minor": 0
      },
      "text/plain": [
       "HBox(children=(IntProgress(value=0, max=13), HTML(value='')))"
      ]
     },
     "metadata": {},
     "output_type": "display_data"
    },
    {
     "name": "stdout",
     "output_type": "stream",
     "text": [
      "48 0.57179874 0.63543427\n"
     ]
    },
    {
     "data": {
      "application/vnd.jupyter.widget-view+json": {
       "model_id": "a63d08f3d7e541b78dbb588eb2b78d09",
       "version_major": 2,
       "version_minor": 0
      },
      "text/plain": [
       "HBox(children=(IntProgress(value=0, max=13), HTML(value='')))"
      ]
     },
     "metadata": {},
     "output_type": "display_data"
    },
    {
     "name": "stdout",
     "output_type": "stream",
     "text": [
      "49 0.5952305 0.6626628\n"
     ]
    }
   ],
   "source": [
    "a_vs_f_model, combined_model, a_vs_f_losses, comb_losses = train_model()"
   ]
  },
  {
   "cell_type": "code",
   "execution_count": 161,
   "metadata": {
    "ExecuteTime": {
     "end_time": "2019-07-15T18:19:30.795801Z",
     "start_time": "2019-07-15T18:19:30.696947Z"
    }
   },
   "outputs": [
    {
     "data": {
      "image/png": "[encoded data removed]",
      "text/plain": [
       "<Figure size 432x288 with 1 Axes>"
      ]
     },
     "metadata": {
      "needs_background": "light"
     },
     "output_type": "display_data"
    }
   ],
   "source": [
    "# plot learning curves\n",
    "plt.plot(a_vs_f_losses)\n",
    "plt.plot(comb_losses)\n",
    "plt.show()"
   ]
  },
  {
   "cell_type": "code",
   "execution_count": 162,
   "metadata": {
    "ExecuteTime": {
     "end_time": "2019-07-15T18:19:36.044697Z",
     "start_time": "2019-07-15T18:19:34.654194Z"
    }
   },
   "outputs": [
    {
     "data": {
      "text/plain": [
       "[0.4558197581768036, 0.8575]"
      ]
     },
     "execution_count": 162,
     "metadata": {},
     "output_type": "execute_result"
    }
   ],
   "source": [
    "# make some predictions\n",
    "combined_model.evaluate_generator(val_generator, steps=1 + val_generator.n//val_generator.batch_size)"
   ]
  },
  {
   "cell_type": "code",
   "execution_count": 163,
   "metadata": {
    "ExecuteTime": {
     "end_time": "2019-07-15T18:19:39.330787Z",
     "start_time": "2019-07-15T18:19:38.664440Z"
    }
   },
   "outputs": [
    {
     "data": {
      "text/plain": [
       "[0.5544909155368805, 0.8475]"
      ]
     },
     "execution_count": 163,
     "metadata": {},
     "output_type": "execute_result"
    }
   ],
   "source": [
    "combined_model.evaluate_generator(val_generator, steps=1 + val_generator.n//val_generator.batch_size)"
   ]
  },
  {
   "cell_type": "code",
   "execution_count": null,
   "metadata": {},
   "outputs": [],
   "source": []
  }
 ],
 "metadata": {
  "kernelspec": {
   "display_name": "Python 3",
   "language": "python",
   "name": "python3"
  },
  "language_info": {
   "codemirror_mode": {
    "name": "ipython",
    "version": 3
   },
   "file_extension": ".py",
   "mimetype": "text/x-python",
   "name": "python",
   "nbconvert_exporter": "python",
   "pygments_lexer": "ipython3",
   "version": "3.6.7"
  }
 },
 "nbformat": 4,
 "nbformat_minor": 2
}
