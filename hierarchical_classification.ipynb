{
 "cells": [
  {
   "cell_type": "markdown",
   "metadata": {},
   "source": [
    "## Problem\n",
    "Build a Deep Learning classification model that takes the hierarchy into consideration.\n",
    "Take any 4 categories from the dataset (100 images each) such that there is a hierarchical relationship between them for eg:\n",
    "\n",
    "Animals\n",
    "- Dog\n",
    "- Cat\n",
    "\n",
    "~~Flowers~~ Fruits\n",
    "- ~~Rose~~ Grapes\n",
    "- ~~Sunflower~~ Pear\n",
    "\n",
    "Build a Classification model for the above 4 categories, such that the penalty of inter-category prediction is higher."
   ]
  },
  {
   "cell_type": "markdown",
   "metadata": {},
   "source": [
    "## Import stuff"
   ]
  },
  {
   "cell_type": "code",
   "execution_count": 1,
   "metadata": {
    "ExecuteTime": {
     "end_time": "2019-07-15T19:22:18.113239Z",
     "start_time": "2019-07-15T19:22:09.894211Z"
    }
   },
   "outputs": [
    {
     "name": "stderr",
     "output_type": "stream",
     "text": [
      "Using TensorFlow backend.\n"
     ]
    }
   ],
   "source": [
    "import os\n",
    "import numpy as np\n",
    "import sys\n",
    "from PIL import Image\n",
    "import PIL.ImageOps\n",
    "\n",
    "from matplotlib import pyplot as plt\n",
    "import matplotlib.cm as cm\n",
    "import random\n",
    "\n",
    "import keras\n",
    "from keras import layers as L\n",
    "from keras import optimizers as opt\n",
    "from keras.preprocessing.image import ImageDataGenerator\n",
    "\n",
    "# for reproducibility\n",
    "from numpy.random import seed\n",
    "seed(41)\n",
    "from tensorflow import set_random_seed\n",
    "set_random_seed(41)"
   ]
  },
  {
   "cell_type": "markdown",
   "metadata": {
    "ExecuteTime": {
     "end_time": "2019-07-15T10:36:46.332600Z",
     "start_time": "2019-07-15T10:36:46.330594Z"
    },
    "heading_collapsed": true
   },
   "source": [
    "## Extract and save the image files (28x28) from .npy files"
   ]
  },
  {
   "cell_type": "markdown",
   "metadata": {
    "heading_collapsed": true,
    "hidden": true
   },
   "source": [
    "### Split the npy file and save images"
   ]
  },
  {
   "cell_type": "code",
   "execution_count": null,
   "metadata": {
    "ExecuteTime": {
     "end_time": "2019-07-15T11:51:33.847612Z",
     "start_time": "2019-07-15T11:51:32.753433Z"
    },
    "hidden": true
   },
   "outputs": [],
   "source": [
    "# used code from: https://github.com/C-Aniruddh/RapidDraw/blob/in-dev/processing/process_all.py\n",
    "\n",
    "\n",
    "# this cell needed to run only once. After downloading the npy files\n",
    "\n",
    "number_images = 100; # Number of images in each category\n",
    "img_width, img_height = 28, 28\n",
    "\n",
    "\n",
    "npy_dir = '../data_dump/'\n",
    "out_dir = './data/'\n",
    "npy_files = [f for f in os.listdir(npy_dir) if os.path.isfile(os.path.join(npy_dir, f))]\n",
    "print('Available classes:')\n",
    "print(npy_files)\n",
    "\n",
    "categories = []\n",
    "\n",
    "for x in npy_files:\n",
    "    category_split = x.split('.')\n",
    "    category = category_split[0]\n",
    "    categories.append(category)\n",
    "    \n",
    "print('Data from following classes will be unpacked:')\n",
    "print(categories)\n",
    "\n",
    "for y in categories:\n",
    "    if not os.path.exists(os.path.join(out_dir, y)):\n",
    "        os.makedirs(os.path.join(out_dir, y))\n",
    "\n",
    "index_cat = 0\n",
    "for z in npy_files:\n",
    "    print('Processing file', z)\n",
    "    images = np.load(os.path.join(npy_dir, z))\n",
    "    print('Saving in', categories[index_cat])\n",
    "    number_imgs = range(0, number_images, 1)\n",
    "    for a in number_imgs:\n",
    "        print('\\t Processing Image', a+1)\n",
    "        file_name = '%s.jpg' % (a+1)\n",
    "        file_path = os.path.join(out_dir, categories[index_cat], file_name)\n",
    "        img = images[a].reshape(img_width, img_height)\n",
    "        f_img = Image.fromarray(img)\n",
    "        inverted_image = PIL.ImageOps.invert(f_img)\n",
    "        inverted_image.save(file_path, 'JPEG')\n",
    "    index_cat = index_cat + 1"
   ]
  },
  {
   "cell_type": "markdown",
   "metadata": {
    "heading_collapsed": true,
    "hidden": true
   },
   "source": [
    "### Have a look at few training images"
   ]
  },
  {
   "cell_type": "code",
   "execution_count": null,
   "metadata": {
    "ExecuteTime": {
     "end_time": "2019-07-15T11:18:39.706735Z",
     "start_time": "2019-07-15T11:18:39.168897Z"
    },
    "hidden": true
   },
   "outputs": [],
   "source": [
    "# randomly picks 4 images per class\n",
    "r, c = 2, 2\n",
    "for d in os.listdir(out_dir):\n",
    "    print(d)\n",
    "    fig, axs = plt.subplots(r, c)\n",
    "    cnt = 1\n",
    "    for i in range(r):\n",
    "        for j in range(c):\n",
    "            img = plt.imread(out_dir+d+'/'+str(random.randint(1, 100))+'.jpg')\n",
    "            axs[i, j].imshow(img, cmap=cm.gray)\n",
    "            axs[i, j].axis('off')\n",
    "            cnt += 1\n",
    "    plt.show()\n",
    "    plt.close()"
   ]
  },
  {
   "cell_type": "markdown",
   "metadata": {},
   "source": [
    "## Create and verify the data generator"
   ]
  },
  {
   "cell_type": "markdown",
   "metadata": {},
   "source": [
    "I chose to use a neural network to build the classifier. The reason is two-fold:\n",
    "- CNN based neural networks are historically proven to be very strong at image classification, identification tasks.\n",
    "- The test is on Deep Learning! ;-)\n",
    "\n",
    "So, My idea is to build a multi-task model. First it will try to classify images into $animal$ or $fruit$ classes and then it will further classify among the four classes ($dog$, $cat$, $grapes$, $pear$). "
   ]
  },
  {
   "cell_type": "code",
   "execution_count": 2,
   "metadata": {
    "ExecuteTime": {
     "end_time": "2019-07-15T19:22:54.811366Z",
     "start_time": "2019-07-15T19:22:54.807356Z"
    }
   },
   "outputs": [],
   "source": [
    "# few constants\n",
    "data_path = './data/'\n",
    "val_data_path = './val_data/'\n",
    "img_width, img_height, n_channel = 28, 28, 3\n",
    "img_shape = (img_width, img_height)\n",
    "batch_size = 32\n",
    "epoch = 20"
   ]
  },
  {
   "cell_type": "code",
   "execution_count": 3,
   "metadata": {
    "ExecuteTime": {
     "end_time": "2019-07-15T19:22:55.476553Z",
     "start_time": "2019-07-15T19:22:55.239721Z"
    }
   },
   "outputs": [
    {
     "name": "stdout",
     "output_type": "stream",
     "text": [
      "Found 400 images belonging to 4 classes.\n",
      "Found 400 images belonging to 4 classes.\n"
     ]
    }
   ],
   "source": [
    "# create a generator\n",
    "datagen = ImageDataGenerator(\n",
    "    rescale=1./255,\n",
    "    rotation_range=20,\n",
    "    width_shift_range=0.2,\n",
    "    height_shift_range=0.2,\n",
    "    horizontal_flip=True)\n",
    "train_generator = datagen.flow_from_directory(data_path, target_size=(img_width, img_height)\n",
    "                    , class_mode='categorical'\n",
    "                    , batch_size=batch_size, interpolation='nearest'\n",
    "                    , shuffle=True\n",
    "                   )\n",
    "val_generator = ImageDataGenerator(\n",
    "    rescale=1./255).flow_from_directory(val_data_path, target_size=(img_width, img_height)\n",
    "                    , class_mode='categorical'\n",
    "                    , batch_size=batch_size, interpolation='nearest'\n",
    "                    , shuffle=True\n",
    "                   )"
   ]
  },
  {
   "cell_type": "code",
   "execution_count": 4,
   "metadata": {
    "ExecuteTime": {
     "end_time": "2019-07-15T19:22:56.036713Z",
     "start_time": "2019-07-15T19:22:56.030697Z"
    }
   },
   "outputs": [],
   "source": [
    "# mode will be train for both training and validation\n",
    "def combined_generator(datagen, mode='train'):\n",
    "    y_4c = None\n",
    "    while True:\n",
    "        if mode == 'train':\n",
    "            X_batch, y_4c = datagen.next()\n",
    "        else:\n",
    "            X_batch = datagen.next()\n",
    "        if y_4c is not None:\n",
    "            # class and how the target looks for y_4c\n",
    "            # cat     [1, 0, 0, 0]\n",
    "            # dog     [0, 1, 0, 0]\n",
    "            # grapes  [0, 0, 1, 0]\n",
    "            # pear    [0, 0, 0, 1]\n",
    "\n",
    "            # for a_vs_f model we need target of shape (batch_size, 2)\n",
    "            # class cat and dog -> [1, 0]\n",
    "            # class grapes and pear -> [0, 1]\n",
    "            # how class and the target should look for a_vs_f model\n",
    "            # cat     [1, 0]\n",
    "            # dog     [1, 0]\n",
    "            # grapes  [0, 1]\n",
    "            # pear    [0, 1]\n",
    "\n",
    "            y_a_f = np.zeros((y_4c.shape[0], 2))\n",
    "            for idx, y in enumerate(y_4c):\n",
    "                if np.all(y == [1, 0, 0, 0]) or np.all(y == [0, 1, 0, 0]):\n",
    "                    y_a_f[idx] = [1, 0]\n",
    "                else:\n",
    "                    y_a_f[idx] = [0, 1]\n",
    "            yield X_batch, [y_a_f, y_4c]\n",
    "        else:\n",
    "            yield X_batch\n",
    "    "
   ]
  },
  {
   "cell_type": "code",
   "execution_count": 5,
   "metadata": {
    "ExecuteTime": {
     "end_time": "2019-07-15T19:22:57.287398Z",
     "start_time": "2019-07-15T19:22:56.695070Z"
    }
   },
   "outputs": [
    {
     "name": "stdout",
     "output_type": "stream",
     "text": [
      "Shape of one batch of data:\n",
      "X shape:  (32, 28, 28, 3)\n",
      "y shape:  (32, 4)\n"
     ]
    },
    {
     "data": {
      "image/png": "[encoded data removed]",
      "text/plain": [
       "<Figure size 432x288 with 16 Axes>"
      ]
     },
     "metadata": {
      "needs_background": "light"
     },
     "output_type": "display_data"
    }
   ],
   "source": [
    "# test how my generator is doing\n",
    "X, y = next(train_generator) # ask for a batch\n",
    "\n",
    "print('Shape of one batch of data:')\n",
    "print('X shape: ', X.shape)\n",
    "print('y shape: ', y.shape)\n",
    "\n",
    "\n",
    "r, c = 4, 4 # lets not show entire batch, check rxc images\n",
    "imgs = X[:r*c]\n",
    "labels = y[:r*c]\n",
    "cnt = 0\n",
    "fig, axs = plt.subplots(r, c)\n",
    "for i in range(r):\n",
    "    for j in range(c):\n",
    "        img = imgs[cnt]\n",
    "        axs[i, j].imshow(img, cmap=cm.gray)\n",
    "        axs[i, j].axis('off')\n",
    "        axs[i, j].set_title(str(labels[cnt]))\n",
    "        cnt += 1\n",
    "plt.show()\n",
    "plt.close()\n"
   ]
  },
  {
   "cell_type": "markdown",
   "metadata": {},
   "source": [
    "## Build models"
   ]
  },
  {
   "cell_type": "code",
   "execution_count": 6,
   "metadata": {
    "ExecuteTime": {
     "end_time": "2019-07-15T19:22:59.578090Z",
     "start_time": "2019-07-15T19:22:59.575091Z"
    }
   },
   "outputs": [],
   "source": [
    "# some model realted constants\n",
    "latent_dim = 128\n",
    "epochs = 50\n",
    "num_a_f_update = 2"
   ]
  },
  {
   "cell_type": "code",
   "execution_count": 7,
   "metadata": {
    "ExecuteTime": {
     "end_time": "2019-07-15T19:23:00.047440Z",
     "start_time": "2019-07-15T19:23:00.039446Z"
    }
   },
   "outputs": [],
   "source": [
    "# build the animal vs fruit model\n",
    "def build_a_vs_f_model(input_dim=(img_width, img_height, n_channel), n_classes=2):\n",
    "    input_ = L.Input(shape=input_dim)\n",
    "    x = L.Conv2D(32, kernel_size=(3, 3), activation='relu')(input_)\n",
    "    x = L.Conv2D(64, kernel_size=(3, 3), activation='relu')(x)\n",
    "    x = L.MaxPooling2D(pool_size=(2, 2))(x)\n",
    "    x = L.Dropout(0.25)(x)\n",
    "    x = L.Flatten()(x)\n",
    "    x = L.Dense(latent_dim, activation='relu')(x)\n",
    "    feat = L.Dropout(0.5)(x)\n",
    "    pred = L.Dense(n_classes, activation='softmax')(feat)\n",
    "    # this is to classify animal vs fruit\n",
    "    af_model = keras.models.Model(inputs=input_, outputs=pred, name='af_model')\n",
    "    # idea is to use this layer output as a input feature to the 4 class classification problem\n",
    "    af_feature_model = keras.models.Model(inputs=input_, outputs=feat, name='feat_model')\n",
    "    \n",
    "    af_model.summary()\n",
    "    return af_model, af_feature_model"
   ]
  },
  {
   "cell_type": "code",
   "execution_count": 8,
   "metadata": {
    "ExecuteTime": {
     "end_time": "2019-07-15T19:23:00.693301Z",
     "start_time": "2019-07-15T19:23:00.686784Z"
    }
   },
   "outputs": [],
   "source": [
    "# build the 4 class classification model\n",
    "def build_4class_model(input_dim=(img_width, img_height, n_channel), n_classes=4, latent_dim=128):\n",
    "    input_img = L.Input(shape=input_dim)\n",
    "    x = L.Conv2D(32, kernel_size=(3, 3), activation='relu')(input_img)\n",
    "    x = L.Conv2D(64, kernel_size=(3, 3), activation='relu')(x)\n",
    "    x = L.MaxPooling2D(pool_size=(2, 2))(x)\n",
    "    x = L.Dropout(0.25)(x)\n",
    "    x = L.Flatten()(x)\n",
    "    x = L.Dense(128, activation='relu')(x)\n",
    "    \n",
    "    input_feat = L.Input(shape=(latent_dim,))\n",
    "    y = L.Concatenate()([x, input_feat])\n",
    "    y = L.Dense(128)(y)\n",
    "    y = L.Dropout(0.25)(y)\n",
    "    y = L.Dense(64)(y)\n",
    "    y = L.Dropout(0.25)(y)\n",
    "    y = L.Dense(32)(y)\n",
    "    y = L.Dropout(0.25)(y)\n",
    "    pred = L.Dense(n_classes, activation='softmax')(y)\n",
    "    model = keras.models.Model(inputs=[input_img, input_feat], outputs=pred, name='class4_model')\n",
    "    model.summary()\n",
    "\n",
    "    return model"
   ]
  },
  {
   "cell_type": "code",
   "execution_count": 9,
   "metadata": {
    "ExecuteTime": {
     "end_time": "2019-07-15T19:23:01.203139Z",
     "start_time": "2019-07-15T19:23:01.199530Z"
    }
   },
   "outputs": [],
   "source": [
    "def build_combined_model(a_vs_f_model, feat_model, class4_model):\n",
    "    inputs = L.Input(shape=(img_width, img_height, n_channel))\n",
    "    a_f = a_vs_f_model(inputs)\n",
    "    feat = feat_model(inputs)\n",
    "    pred = class4_model([inputs, feat])\n",
    "    model = keras.models.Model(inputs=inputs, outputs=[a_f, pred], name='comb_model')\n",
    "    model.summary()\n",
    "    return model"
   ]
  },
  {
   "cell_type": "code",
   "execution_count": 10,
   "metadata": {
    "ExecuteTime": {
     "end_time": "2019-07-15T19:23:01.684931Z",
     "start_time": "2019-07-15T19:23:01.678900Z"
    }
   },
   "outputs": [],
   "source": [
    "# now, time to train the model\n",
    "def train_model():\n",
    "    \n",
    "    # create models\n",
    "    a_vs_f_model, feat_model = build_a_vs_f_model()\n",
    "    class_4_model = build_4class_model()\n",
    "    combined_model = build_combined_model(a_vs_f_model, feat_model, class_4_model)\n",
    "    \n",
    "    # get opt\n",
    "    comb_opt = opt.Adam(lr=1E-4, beta_1=0.9, beta_2=0.999, epsilon=1e-08)\n",
    "\n",
    "    loss_weights = [2, 1]\n",
    "    combined_model.compile(optimizer=comb_opt\n",
    "                           , loss=['categorical_crossentropy', 'categorical_crossentropy']\n",
    "                           , loss_weights=loss_weights, metrics=['acc'])\n",
    "    \n",
    "    # set up callbacks\n",
    "    model_filepath = 'model.hdf5'\n",
    "    chkpoint = keras.callbacks.ModelCheckpoint(model_filepath, monitor='val_loss', verbose=1\n",
    "                    , save_best_only=True, save_weights_only=False, mode='auto', period=1)\n",
    "    callback_list=[keras.callbacks.History(), chkpoint]\n",
    "    \n",
    "    history = combined_model.fit_generator(\n",
    "            generator=combined_generator(train_generator),\n",
    "            steps_per_epoch=1+train_generator.n//train_generator.batch_size,\n",
    "            validation_data=combined_generator(val_generator),\n",
    "            validation_steps=1+val_generator.n//val_generator.batch_size,\n",
    "            callbacks=callback_list,\n",
    "            epochs=epochs\n",
    "        )\n",
    "        \n",
    "    return combined_model, history\n",
    "    "
   ]
  },
  {
   "cell_type": "code",
   "execution_count": 11,
   "metadata": {
    "ExecuteTime": {
     "end_time": "2019-07-15T19:26:11.673125Z",
     "start_time": "2019-07-15T19:23:02.422606Z"
    }
   },
   "outputs": [
    {
     "name": "stdout",
     "output_type": "stream",
     "text": [
      "WARNING:tensorflow:From C:\\Users\\sm186047\\AppData\\Local\\Continuum\\anaconda3\\lib\\site-packages\\tensorflow\\python\\framework\\op_def_library.py:263: colocate_with (from tensorflow.python.framework.ops) is deprecated and will be removed in a future version.\n",
      "Instructions for updating:\n",
      "Colocations handled automatically by placer.\n",
      "WARNING:tensorflow:From C:\\Users\\sm186047\\AppData\\Local\\Continuum\\anaconda3\\lib\\site-packages\\keras\\backend\\tensorflow_backend.py:3445: calling dropout (from tensorflow.python.ops.nn_ops) with keep_prob is deprecated and will be removed in a future version.\n",
      "Instructions for updating:\n",
      "Please use `rate` instead of `keep_prob`. Rate should be set to `rate = 1 - keep_prob`.\n",
      "_________________________________________________________________\n",
      "Layer (type)                 Output Shape              Param #   \n",
      "=================================================================\n",
      "input_1 (InputLayer)         (None, 28, 28, 3)         0         \n",
      "_________________________________________________________________\n",
      "conv2d_1 (Conv2D)            (None, 26, 26, 32)        896       \n",
      "_________________________________________________________________\n",
      "conv2d_2 (Conv2D)            (None, 24, 24, 64)        18496     \n",
      "_________________________________________________________________\n",
      "max_pooling2d_1 (MaxPooling2 (None, 12, 12, 64)        0         \n",
      "_________________________________________________________________\n",
      "dropout_1 (Dropout)          (None, 12, 12, 64)        0         \n",
      "_________________________________________________________________\n",
      "flatten_1 (Flatten)          (None, 9216)              0         \n",
      "_________________________________________________________________\n",
      "dense_1 (Dense)              (None, 128)               1179776   \n",
      "_________________________________________________________________\n",
      "dropout_2 (Dropout)          (None, 128)               0         \n",
      "_________________________________________________________________\n",
      "dense_2 (Dense)              (None, 2)                 258       \n",
      "=================================================================\n",
      "Total params: 1,199,426\n",
      "Trainable params: 1,199,426\n",
      "Non-trainable params: 0\n",
      "_________________________________________________________________\n",
      "__________________________________________________________________________________________________\n",
      "Layer (type)                    Output Shape         Param #     Connected to                     \n",
      "==================================================================================================\n",
      "input_2 (InputLayer)            (None, 28, 28, 3)    0                                            \n",
      "__________________________________________________________________________________________________\n",
      "conv2d_3 (Conv2D)               (None, 26, 26, 32)   896         input_2[0][0]                    \n",
      "__________________________________________________________________________________________________\n",
      "conv2d_4 (Conv2D)               (None, 24, 24, 64)   18496       conv2d_3[0][0]                   \n",
      "__________________________________________________________________________________________________\n",
      "max_pooling2d_2 (MaxPooling2D)  (None, 12, 12, 64)   0           conv2d_4[0][0]                   \n",
      "__________________________________________________________________________________________________\n",
      "dropout_3 (Dropout)             (None, 12, 12, 64)   0           max_pooling2d_2[0][0]            \n",
      "__________________________________________________________________________________________________\n",
      "flatten_2 (Flatten)             (None, 9216)         0           dropout_3[0][0]                  \n",
      "__________________________________________________________________________________________________\n",
      "dense_3 (Dense)                 (None, 128)          1179776     flatten_2[0][0]                  \n",
      "__________________________________________________________________________________________________\n",
      "input_3 (InputLayer)            (None, 128)          0                                            \n",
      "__________________________________________________________________________________________________\n",
      "concatenate_1 (Concatenate)     (None, 256)          0           dense_3[0][0]                    \n",
      "                                                                 input_3[0][0]                    \n",
      "__________________________________________________________________________________________________\n",
      "dense_4 (Dense)                 (None, 128)          32896       concatenate_1[0][0]              \n",
      "__________________________________________________________________________________________________\n",
      "dropout_4 (Dropout)             (None, 128)          0           dense_4[0][0]                    \n",
      "__________________________________________________________________________________________________\n",
      "dense_5 (Dense)                 (None, 64)           8256        dropout_4[0][0]                  \n",
      "__________________________________________________________________________________________________\n",
      "dropout_5 (Dropout)             (None, 64)           0           dense_5[0][0]                    \n",
      "__________________________________________________________________________________________________\n",
      "dense_6 (Dense)                 (None, 32)           2080        dropout_5[0][0]                  \n",
      "__________________________________________________________________________________________________\n",
      "dropout_6 (Dropout)             (None, 32)           0           dense_6[0][0]                    \n",
      "__________________________________________________________________________________________________\n",
      "dense_7 (Dense)                 (None, 4)            132         dropout_6[0][0]                  \n",
      "==================================================================================================\n",
      "Total params: 1,242,532\n",
      "Trainable params: 1,242,532\n",
      "Non-trainable params: 0\n",
      "__________________________________________________________________________________________________\n",
      "__________________________________________________________________________________________________\n",
      "Layer (type)                    Output Shape         Param #     Connected to                     \n",
      "==================================================================================================\n",
      "input_4 (InputLayer)            (None, 28, 28, 3)    0                                            \n",
      "__________________________________________________________________________________________________\n",
      "feat_model (Model)              (None, 128)          1199168     input_4[0][0]                    \n",
      "__________________________________________________________________________________________________\n",
      "af_model (Model)                (None, 2)            1199426     input_4[0][0]                    \n",
      "__________________________________________________________________________________________________\n",
      "class4_model (Model)            (None, 4)            1242532     input_4[0][0]                    \n",
      "                                                                 feat_model[1][0]                 \n",
      "==================================================================================================\n",
      "Total params: 2,441,958\n",
      "Trainable params: 2,441,958\n",
      "Non-trainable params: 0\n",
      "__________________________________________________________________________________________________\n",
      "WARNING:tensorflow:From C:\\Users\\sm186047\\AppData\\Local\\Continuum\\anaconda3\\lib\\site-packages\\tensorflow\\python\\ops\\math_ops.py:3066: to_int32 (from tensorflow.python.ops.math_ops) is deprecated and will be removed in a future version.\n",
      "Instructions for updating:\n",
      "Use tf.cast instead.\n",
      "Epoch 1/50\n",
      "13/13 [==============================] - 4s 332ms/step - loss: 2.8976 - af_model_loss: 0.7020 - class4_model_loss: 1.4936 - af_model_acc: 0.5310 - class4_model_acc: 0.2693 - val_loss: 2.6716 - val_af_model_loss: 0.6740 - val_class4_model_loss: 1.3235 - val_af_model_acc: 0.5000 - val_class4_model_acc: 0.2725\n",
      "\n",
      "Epoch 00001: val_loss improved from inf to 2.67161, saving model to model.hdf5\n",
      "Epoch 2/50\n",
      "13/13 [==============================] - 3s 252ms/step - loss: 2.8603 - af_model_loss: 0.7099 - class4_model_loss: 1.4404 - af_model_acc: 0.4718 - class4_model_acc: 0.2739 - val_loss: 2.5595 - val_af_model_loss: 0.6533 - val_class4_model_loss: 1.2530 - val_af_model_acc: 0.6350 - val_class4_model_acc: 0.6200\n"
     ]
    },
    {
     "name": "stdout",
     "output_type": "stream",
     "text": [
      "\n",
      "Epoch 00002: val_loss improved from 2.67161 to 2.55953, saving model to model.hdf5\n",
      "Epoch 3/50\n",
      "13/13 [==============================] - 4s 279ms/step - loss: 2.7081 - af_model_loss: 0.6839 - class4_model_loss: 1.3403 - af_model_acc: 0.5606 - class4_model_acc: 0.3175 - val_loss: 2.4630 - val_af_model_loss: 0.6343 - val_class4_model_loss: 1.1945 - val_af_model_acc: 0.6700 - val_class4_model_acc: 0.6525\n",
      "\n",
      "Epoch 00003: val_loss improved from 2.55953 to 2.46303, saving model to model.hdf5\n",
      "Epoch 4/50\n",
      "13/13 [==============================] - 4s 278ms/step - loss: 2.6420 - af_model_loss: 0.6614 - class4_model_loss: 1.3191 - af_model_acc: 0.6532 - class4_model_acc: 0.3937 - val_loss: 2.3642 - val_af_model_loss: 0.5950 - val_class4_model_loss: 1.1741 - val_af_model_acc: 0.8275 - val_class4_model_acc: 0.4725\n",
      "\n",
      "Epoch 00004: val_loss improved from 2.46303 to 2.36420, saving model to model.hdf5\n",
      "Epoch 5/50\n",
      "13/13 [==============================] - 4s 280ms/step - loss: 2.5690 - af_model_loss: 0.6556 - class4_model_loss: 1.2578 - af_model_acc: 0.6302 - class4_model_acc: 0.4273 - val_loss: 2.2253 - val_af_model_loss: 0.5689 - val_class4_model_loss: 1.0875 - val_af_model_acc: 0.8125 - val_class4_model_acc: 0.5200\n",
      "\n",
      "Epoch 00005: val_loss improved from 2.36420 to 2.22526, saving model to model.hdf5\n",
      "Epoch 6/50\n",
      "13/13 [==============================] - 4s 281ms/step - loss: 2.4923 - af_model_loss: 0.6337 - class4_model_loss: 1.2249 - af_model_acc: 0.6756 - class4_model_acc: 0.4379 - val_loss: 2.1087 - val_af_model_loss: 0.5530 - val_class4_model_loss: 1.0028 - val_af_model_acc: 0.7850 - val_class4_model_acc: 0.5725\n",
      "\n",
      "Epoch 00006: val_loss improved from 2.22526 to 2.10875, saving model to model.hdf5\n",
      "Epoch 7/50\n",
      "13/13 [==============================] - 4s 278ms/step - loss: 2.3521 - af_model_loss: 0.5998 - class4_model_loss: 1.1525 - af_model_acc: 0.7162 - class4_model_acc: 0.4878 - val_loss: 2.0498 - val_af_model_loss: 0.4973 - val_class4_model_loss: 1.0551 - val_af_model_acc: 0.8250 - val_class4_model_acc: 0.4775\n",
      "\n",
      "Epoch 00007: val_loss improved from 2.10875 to 2.04983, saving model to model.hdf5\n",
      "Epoch 8/50\n",
      "13/13 [==============================] - 4s 284ms/step - loss: 2.3573 - af_model_loss: 0.6078 - class4_model_loss: 1.1418 - af_model_acc: 0.7016 - class4_model_acc: 0.4924 - val_loss: 1.8864 - val_af_model_loss: 0.4754 - val_class4_model_loss: 0.9357 - val_af_model_acc: 0.8100 - val_class4_model_acc: 0.5375\n",
      "\n",
      "Epoch 00008: val_loss improved from 2.04983 to 1.88643, saving model to model.hdf5\n",
      "Epoch 9/50\n",
      "13/13 [==============================] - 4s 280ms/step - loss: 2.2557 - af_model_loss: 0.5795 - class4_model_loss: 1.0968 - af_model_acc: 0.7331 - class4_model_acc: 0.5165 - val_loss: 1.7894 - val_af_model_loss: 0.4644 - val_class4_model_loss: 0.8606 - val_af_model_acc: 0.8125 - val_class4_model_acc: 0.6500\n",
      "\n",
      "Epoch 00009: val_loss improved from 1.88643 to 1.78937, saving model to model.hdf5\n",
      "Epoch 10/50\n",
      "13/13 [==============================] - 4s 278ms/step - loss: 2.2846 - af_model_loss: 0.5802 - class4_model_loss: 1.1242 - af_model_acc: 0.7140 - class4_model_acc: 0.4718 - val_loss: 1.7323 - val_af_model_loss: 0.4556 - val_class4_model_loss: 0.8212 - val_af_model_acc: 0.8125 - val_class4_model_acc: 0.7125\n",
      "\n",
      "Epoch 00010: val_loss improved from 1.78937 to 1.73231, saving model to model.hdf5\n",
      "Epoch 11/50\n",
      "13/13 [==============================] - 4s 280ms/step - loss: 2.2211 - af_model_loss: 0.5649 - class4_model_loss: 1.0913 - af_model_acc: 0.7118 - class4_model_acc: 0.4929 - val_loss: 1.7201 - val_af_model_loss: 0.4343 - val_class4_model_loss: 0.8515 - val_af_model_acc: 0.8300 - val_class4_model_acc: 0.6700\n",
      "\n",
      "Epoch 00011: val_loss improved from 1.73231 to 1.72006, saving model to model.hdf5\n",
      "Epoch 12/50\n",
      "13/13 [==============================] - 4s 275ms/step - loss: 2.1208 - af_model_loss: 0.5322 - class4_model_loss: 1.0565 - af_model_acc: 0.7712 - class4_model_acc: 0.5067 - val_loss: 1.5953 - val_af_model_loss: 0.4194 - val_class4_model_loss: 0.7565 - val_af_model_acc: 0.8325 - val_class4_model_acc: 0.7375\n",
      "\n",
      "Epoch 00012: val_loss improved from 1.72006 to 1.59531, saving model to model.hdf5\n",
      "Epoch 13/50\n",
      "13/13 [==============================] - 4s 281ms/step - loss: 2.1385 - af_model_loss: 0.5590 - class4_model_loss: 1.0206 - af_model_acc: 0.7187 - class4_model_acc: 0.5451 - val_loss: 1.6223 - val_af_model_loss: 0.4443 - val_class4_model_loss: 0.7337 - val_af_model_acc: 0.8150 - val_class4_model_acc: 0.7275\n",
      "\n",
      "Epoch 00013: val_loss did not improve from 1.59531\n",
      "Epoch 14/50\n",
      "13/13 [==============================] - 4s 275ms/step - loss: 2.0346 - af_model_loss: 0.5174 - class4_model_loss: 0.9998 - af_model_acc: 0.7717 - class4_model_acc: 0.5529 - val_loss: 1.5518 - val_af_model_loss: 0.4057 - val_class4_model_loss: 0.7404 - val_af_model_acc: 0.8275 - val_class4_model_acc: 0.7050\n",
      "\n",
      "Epoch 00014: val_loss improved from 1.59531 to 1.55183, saving model to model.hdf5\n",
      "Epoch 15/50\n",
      "13/13 [==============================] - 4s 292ms/step - loss: 1.9858 - af_model_loss: 0.5130 - class4_model_loss: 0.9598 - af_model_acc: 0.7713 - class4_model_acc: 0.5790 - val_loss: 1.4896 - val_af_model_loss: 0.3859 - val_class4_model_loss: 0.7179 - val_af_model_acc: 0.8475 - val_class4_model_acc: 0.7375\n",
      "\n",
      "Epoch 00015: val_loss improved from 1.55183 to 1.48962, saving model to model.hdf5\n",
      "Epoch 16/50\n",
      "13/13 [==============================] - 4s 273ms/step - loss: 2.0830 - af_model_loss: 0.5452 - class4_model_loss: 0.9927 - af_model_acc: 0.7213 - class4_model_acc: 0.5623 - val_loss: 1.5187 - val_af_model_loss: 0.3989 - val_class4_model_loss: 0.7208 - val_af_model_acc: 0.8425 - val_class4_model_acc: 0.7250\n",
      "\n",
      "Epoch 00016: val_loss did not improve from 1.48962\n",
      "Epoch 17/50\n",
      "13/13 [==============================] - 4s 289ms/step - loss: 1.9589 - af_model_loss: 0.4974 - class4_model_loss: 0.9641 - af_model_acc: 0.7839 - class4_model_acc: 0.5768 - val_loss: 1.5060 - val_af_model_loss: 0.3786 - val_class4_model_loss: 0.7488 - val_af_model_acc: 0.8500 - val_class4_model_acc: 0.7050\n",
      "\n",
      "Epoch 00017: val_loss did not improve from 1.48962\n",
      "Epoch 18/50\n",
      "13/13 [==============================] - 4s 284ms/step - loss: 1.9728 - af_model_loss: 0.4934 - class4_model_loss: 0.9861 - af_model_acc: 0.7598 - class4_model_acc: 0.5654 - val_loss: 1.5718 - val_af_model_loss: 0.4105 - val_class4_model_loss: 0.7508 - val_af_model_acc: 0.8350 - val_class4_model_acc: 0.7150\n",
      "\n",
      "Epoch 00018: val_loss did not improve from 1.48962\n",
      "Epoch 19/50\n",
      "13/13 [==============================] - 4s 288ms/step - loss: 1.9548 - af_model_loss: 0.5201 - class4_model_loss: 0.9146 - af_model_acc: 0.7598 - class4_model_acc: 0.5890 - val_loss: 1.4670 - val_af_model_loss: 0.3835 - val_class4_model_loss: 0.7001 - val_af_model_acc: 0.8475 - val_class4_model_acc: 0.7350\n",
      "\n",
      "Epoch 00019: val_loss improved from 1.48962 to 1.46699, saving model to model.hdf5\n",
      "Epoch 20/50\n",
      "13/13 [==============================] - 4s 281ms/step - loss: 1.8706 - af_model_loss: 0.4698 - class4_model_loss: 0.9311 - af_model_acc: 0.8030 - class4_model_acc: 0.5940 - val_loss: 1.3918 - val_af_model_loss: 0.3616 - val_class4_model_loss: 0.6687 - val_af_model_acc: 0.8500 - val_class4_model_acc: 0.7275\n",
      "\n",
      "Epoch 00020: val_loss improved from 1.46699 to 1.39183, saving model to model.hdf5\n",
      "Epoch 21/50\n",
      "13/13 [==============================] - 4s 286ms/step - loss: 1.9457 - af_model_loss: 0.5026 - class4_model_loss: 0.9405 - af_model_acc: 0.7569 - class4_model_acc: 0.5966 - val_loss: 1.3882 - val_af_model_loss: 0.3694 - val_class4_model_loss: 0.6495 - val_af_model_acc: 0.8500 - val_class4_model_acc: 0.7400\n",
      "\n",
      "Epoch 00021: val_loss improved from 1.39183 to 1.38822, saving model to model.hdf5\n",
      "Epoch 22/50\n",
      "13/13 [==============================] - 4s 279ms/step - loss: 1.9001 - af_model_loss: 0.4823 - class4_model_loss: 0.9355 - af_model_acc: 0.7739 - class4_model_acc: 0.6107 - val_loss: 1.3951 - val_af_model_loss: 0.3537 - val_class4_model_loss: 0.6878 - val_af_model_acc: 0.8700 - val_class4_model_acc: 0.7325\n",
      "\n",
      "Epoch 00022: val_loss did not improve from 1.38822\n",
      "Epoch 23/50\n"
     ]
    },
    {
     "name": "stdout",
     "output_type": "stream",
     "text": [
      "13/13 [==============================] - 4s 294ms/step - loss: 1.8641 - af_model_loss: 0.4690 - class4_model_loss: 0.9262 - af_model_acc: 0.7888 - class4_model_acc: 0.5846 - val_loss: 1.3838 - val_af_model_loss: 0.3443 - val_class4_model_loss: 0.6952 - val_af_model_acc: 0.8625 - val_class4_model_acc: 0.7300\n",
      "\n",
      "Epoch 00023: val_loss improved from 1.38822 to 1.38377, saving model to model.hdf5\n",
      "Epoch 24/50\n",
      "13/13 [==============================] - 4s 285ms/step - loss: 1.9836 - af_model_loss: 0.5000 - class4_model_loss: 0.9837 - af_model_acc: 0.7600 - class4_model_acc: 0.5606 - val_loss: 1.4398 - val_af_model_loss: 0.3606 - val_class4_model_loss: 0.7186 - val_af_model_acc: 0.8500 - val_class4_model_acc: 0.6975\n",
      "\n",
      "Epoch 00024: val_loss did not improve from 1.38377\n",
      "Epoch 25/50\n",
      "13/13 [==============================] - 4s 281ms/step - loss: 1.9442 - af_model_loss: 0.5127 - class4_model_loss: 0.9188 - af_model_acc: 0.7763 - class4_model_acc: 0.5961 - val_loss: 1.3850 - val_af_model_loss: 0.3543 - val_class4_model_loss: 0.6765 - val_af_model_acc: 0.8675 - val_class4_model_acc: 0.7375\n",
      "\n",
      "Epoch 00025: val_loss did not improve from 1.38377\n",
      "Epoch 26/50\n",
      "13/13 [==============================] - 4s 287ms/step - loss: 1.7753 - af_model_loss: 0.4419 - class4_model_loss: 0.8915 - af_model_acc: 0.8027 - class4_model_acc: 0.5964 - val_loss: 1.3638 - val_af_model_loss: 0.3368 - val_class4_model_loss: 0.6901 - val_af_model_acc: 0.8750 - val_class4_model_acc: 0.7375\n",
      "\n",
      "Epoch 00026: val_loss improved from 1.38377 to 1.36375, saving model to model.hdf5\n",
      "Epoch 27/50\n",
      "13/13 [==============================] - 4s 297ms/step - loss: 1.8099 - af_model_loss: 0.4401 - class4_model_loss: 0.9296 - af_model_acc: 0.8292 - class4_model_acc: 0.5653 - val_loss: 1.3661 - val_af_model_loss: 0.3325 - val_class4_model_loss: 0.7011 - val_af_model_acc: 0.8600 - val_class4_model_acc: 0.7225\n",
      "\n",
      "Epoch 00027: val_loss did not improve from 1.36375\n",
      "Epoch 28/50\n",
      "13/13 [==============================] - 4s 284ms/step - loss: 1.7943 - af_model_loss: 0.4630 - class4_model_loss: 0.8683 - af_model_acc: 0.8025 - class4_model_acc: 0.6124 - val_loss: 1.3604 - val_af_model_loss: 0.3253 - val_class4_model_loss: 0.7099 - val_af_model_acc: 0.8650 - val_class4_model_acc: 0.7250\n",
      "\n",
      "Epoch 00028: val_loss improved from 1.36375 to 1.36041, saving model to model.hdf5\n",
      "Epoch 29/50\n",
      "13/13 [==============================] - 4s 276ms/step - loss: 1.8292 - af_model_loss: 0.4667 - class4_model_loss: 0.8958 - af_model_acc: 0.7860 - class4_model_acc: 0.5983 - val_loss: 1.4152 - val_af_model_loss: 0.3253 - val_class4_model_loss: 0.7645 - val_af_model_acc: 0.8700 - val_class4_model_acc: 0.6975\n",
      "\n",
      "Epoch 00029: val_loss did not improve from 1.36041\n",
      "Epoch 30/50\n",
      "13/13 [==============================] - 4s 284ms/step - loss: 1.7459 - af_model_loss: 0.4339 - class4_model_loss: 0.8781 - af_model_acc: 0.8197 - class4_model_acc: 0.6298 - val_loss: 1.2949 - val_af_model_loss: 0.3205 - val_class4_model_loss: 0.6540 - val_af_model_acc: 0.8750 - val_class4_model_acc: 0.7325\n",
      "\n",
      "Epoch 00030: val_loss improved from 1.36041 to 1.29493, saving model to model.hdf5\n",
      "Epoch 31/50\n",
      "13/13 [==============================] - 4s 278ms/step - loss: 1.6740 - af_model_loss: 0.4146 - class4_model_loss: 0.8447 - af_model_acc: 0.8318 - class4_model_acc: 0.6221 - val_loss: 1.4287 - val_af_model_loss: 0.3171 - val_class4_model_loss: 0.7944 - val_af_model_acc: 0.8825 - val_class4_model_acc: 0.6925\n",
      "\n",
      "Epoch 00031: val_loss did not improve from 1.29493\n",
      "Epoch 32/50\n",
      "13/13 [==============================] - 4s 284ms/step - loss: 1.8191 - af_model_loss: 0.4699 - class4_model_loss: 0.8792 - af_model_acc: 0.7795 - class4_model_acc: 0.6441 - val_loss: 1.3468 - val_af_model_loss: 0.3296 - val_class4_model_loss: 0.6876 - val_af_model_acc: 0.8700 - val_class4_model_acc: 0.7450\n",
      "\n",
      "Epoch 00032: val_loss did not improve from 1.29493\n",
      "Epoch 33/50\n",
      "13/13 [==============================] - 4s 275ms/step - loss: 1.7029 - af_model_loss: 0.4221 - class4_model_loss: 0.8587 - af_model_acc: 0.8099 - class4_model_acc: 0.6157 - val_loss: 1.4070 - val_af_model_loss: 0.3464 - val_class4_model_loss: 0.7142 - val_af_model_acc: 0.8575 - val_class4_model_acc: 0.7275\n",
      "\n",
      "Epoch 00033: val_loss did not improve from 1.29493\n",
      "Epoch 34/50\n",
      "13/13 [==============================] - 3s 269ms/step - loss: 1.6428 - af_model_loss: 0.4179 - class4_model_loss: 0.8069 - af_model_acc: 0.8294 - class4_model_acc: 0.6345 - val_loss: 1.2771 - val_af_model_loss: 0.3094 - val_class4_model_loss: 0.6583 - val_af_model_acc: 0.8750 - val_class4_model_acc: 0.7325\n",
      "\n",
      "Epoch 00034: val_loss improved from 1.29493 to 1.27706, saving model to model.hdf5\n",
      "Epoch 35/50\n",
      "13/13 [==============================] - 4s 279ms/step - loss: 1.8509 - af_model_loss: 0.4679 - class4_model_loss: 0.9151 - af_model_acc: 0.7865 - class4_model_acc: 0.6229 - val_loss: 1.2877 - val_af_model_loss: 0.3098 - val_class4_model_loss: 0.6680 - val_af_model_acc: 0.8850 - val_class4_model_acc: 0.7475\n",
      "\n",
      "Epoch 00035: val_loss did not improve from 1.27706\n",
      "Epoch 36/50\n",
      "13/13 [==============================] - 4s 280ms/step - loss: 1.7277 - af_model_loss: 0.4655 - class4_model_loss: 0.7967 - af_model_acc: 0.7960 - class4_model_acc: 0.6300 - val_loss: 1.3681 - val_af_model_loss: 0.3166 - val_class4_model_loss: 0.7348 - val_af_model_acc: 0.8875 - val_class4_model_acc: 0.7150\n",
      "\n",
      "Epoch 00036: val_loss did not improve from 1.27706\n",
      "Epoch 37/50\n",
      "13/13 [==============================] - 4s 278ms/step - loss: 1.6443 - af_model_loss: 0.4220 - class4_model_loss: 0.8003 - af_model_acc: 0.8412 - class4_model_acc: 0.6586 - val_loss: 1.3437 - val_af_model_loss: 0.2986 - val_class4_model_loss: 0.7465 - val_af_model_acc: 0.8925 - val_class4_model_acc: 0.7200\n",
      "\n",
      "Epoch 00037: val_loss did not improve from 1.27706\n",
      "Epoch 38/50\n",
      "13/13 [==============================] - 4s 279ms/step - loss: 1.7432 - af_model_loss: 0.4355 - class4_model_loss: 0.8722 - af_model_acc: 0.8121 - class4_model_acc: 0.6204 - val_loss: 1.2572 - val_af_model_loss: 0.3031 - val_class4_model_loss: 0.6511 - val_af_model_acc: 0.8900 - val_class4_model_acc: 0.7400\n",
      "\n",
      "Epoch 00038: val_loss improved from 1.27706 to 1.25721, saving model to model.hdf5\n",
      "Epoch 39/50\n",
      "13/13 [==============================] - 4s 282ms/step - loss: 1.6587 - af_model_loss: 0.4093 - class4_model_loss: 0.8402 - af_model_acc: 0.8437 - class4_model_acc: 0.6129 - val_loss: 1.2647 - val_af_model_loss: 0.2985 - val_class4_model_loss: 0.6677 - val_af_model_acc: 0.8900 - val_class4_model_acc: 0.7500\n",
      "\n",
      "Epoch 00039: val_loss did not improve from 1.25721\n",
      "Epoch 40/50\n",
      "13/13 [==============================] - 4s 286ms/step - loss: 1.6729 - af_model_loss: 0.4293 - class4_model_loss: 0.8142 - af_model_acc: 0.8080 - class4_model_acc: 0.6443 - val_loss: 1.2111 - val_af_model_loss: 0.2989 - val_class4_model_loss: 0.6132 - val_af_model_acc: 0.8825 - val_class4_model_acc: 0.7575\n",
      "\n",
      "Epoch 00040: val_loss improved from 1.25721 to 1.21111, saving model to model.hdf5\n",
      "Epoch 41/50\n",
      "13/13 [==============================] - 4s 300ms/step - loss: 1.6736 - af_model_loss: 0.4223 - class4_model_loss: 0.8289 - af_model_acc: 0.8264 - class4_model_acc: 0.6413 - val_loss: 1.3831 - val_af_model_loss: 0.3005 - val_class4_model_loss: 0.7821 - val_af_model_acc: 0.8875 - val_class4_model_acc: 0.7125\n",
      "\n",
      "Epoch 00041: val_loss did not improve from 1.21111\n",
      "Epoch 42/50\n",
      "13/13 [==============================] - 4s 278ms/step - loss: 1.6348 - af_model_loss: 0.4255 - class4_model_loss: 0.7839 - af_model_acc: 0.8104 - class4_model_acc: 0.6441 - val_loss: 1.2526 - val_af_model_loss: 0.3018 - val_class4_model_loss: 0.6491 - val_af_model_acc: 0.8925 - val_class4_model_acc: 0.7575\n",
      "\n",
      "Epoch 00042: val_loss did not improve from 1.21111\n",
      "Epoch 43/50\n",
      "13/13 [==============================] - 4s 279ms/step - loss: 1.6704 - af_model_loss: 0.4202 - class4_model_loss: 0.8300 - af_model_acc: 0.8201 - class4_model_acc: 0.6371 - val_loss: 1.3339 - val_af_model_loss: 0.3207 - val_class4_model_loss: 0.6924 - val_af_model_acc: 0.8675 - val_class4_model_acc: 0.7325\n",
      "\n",
      "Epoch 00043: val_loss did not improve from 1.21111\n",
      "Epoch 44/50\n"
     ]
    },
    {
     "name": "stdout",
     "output_type": "stream",
     "text": [
      "13/13 [==============================] - 4s 286ms/step - loss: 1.6155 - af_model_loss: 0.4030 - class4_model_loss: 0.8095 - af_model_acc: 0.8388 - class4_model_acc: 0.6612 - val_loss: 1.3094 - val_af_model_loss: 0.2977 - val_class4_model_loss: 0.7140 - val_af_model_acc: 0.8950 - val_class4_model_acc: 0.7325\n",
      "\n",
      "Epoch 00044: val_loss did not improve from 1.21111\n",
      "Epoch 45/50\n",
      "13/13 [==============================] - 4s 278ms/step - loss: 1.6268 - af_model_loss: 0.3995 - class4_model_loss: 0.8279 - af_model_acc: 0.8531 - class4_model_acc: 0.6324 - val_loss: 1.3022 - val_af_model_loss: 0.2890 - val_class4_model_loss: 0.7241 - val_af_model_acc: 0.8925 - val_class4_model_acc: 0.7225\n",
      "\n",
      "Epoch 00045: val_loss did not improve from 1.21111\n",
      "Epoch 46/50\n",
      "13/13 [==============================] - 4s 275ms/step - loss: 1.6405 - af_model_loss: 0.4083 - class4_model_loss: 0.8240 - af_model_acc: 0.8290 - class4_model_acc: 0.6465 - val_loss: 1.3102 - val_af_model_loss: 0.2872 - val_class4_model_loss: 0.7358 - val_af_model_acc: 0.8950 - val_class4_model_acc: 0.7300\n",
      "\n",
      "Epoch 00046: val_loss did not improve from 1.21111\n",
      "Epoch 47/50\n",
      "13/13 [==============================] - 4s 279ms/step - loss: 1.4676 - af_model_loss: 0.3611 - class4_model_loss: 0.7454 - af_model_acc: 0.8463 - class4_model_acc: 0.6727 - val_loss: 1.2959 - val_af_model_loss: 0.2943 - val_class4_model_loss: 0.7072 - val_af_model_acc: 0.8825 - val_class4_model_acc: 0.7325\n",
      "\n",
      "Epoch 00047: val_loss did not improve from 1.21111\n",
      "Epoch 48/50\n",
      "13/13 [==============================] - 4s 286ms/step - loss: 1.6083 - af_model_loss: 0.4117 - class4_model_loss: 0.7849 - af_model_acc: 0.8388 - class4_model_acc: 0.6562 - val_loss: 1.2235 - val_af_model_loss: 0.2814 - val_class4_model_loss: 0.6607 - val_af_model_acc: 0.8950 - val_class4_model_acc: 0.7425\n",
      "\n",
      "Epoch 00048: val_loss did not improve from 1.21111\n",
      "Epoch 49/50\n",
      "13/13 [==============================] - 4s 286ms/step - loss: 1.6599 - af_model_loss: 0.4141 - class4_model_loss: 0.8318 - af_model_acc: 0.8197 - class4_model_acc: 0.6346 - val_loss: 1.2375 - val_af_model_loss: 0.2784 - val_class4_model_loss: 0.6808 - val_af_model_acc: 0.9075 - val_class4_model_acc: 0.7300\n",
      "\n",
      "Epoch 00049: val_loss did not improve from 1.21111\n",
      "Epoch 50/50\n",
      "13/13 [==============================] - 4s 285ms/step - loss: 1.5380 - af_model_loss: 0.3897 - class4_model_loss: 0.7585 - af_model_acc: 0.8411 - class4_model_acc: 0.6608 - val_loss: 1.2650 - val_af_model_loss: 0.2874 - val_class4_model_loss: 0.6903 - val_af_model_acc: 0.8975 - val_class4_model_acc: 0.7375\n",
      "\n",
      "Epoch 00050: val_loss did not improve from 1.21111\n"
     ]
    }
   ],
   "source": [
    "combined_model, history = train_model()"
   ]
  },
  {
   "cell_type": "code",
   "execution_count": 12,
   "metadata": {
    "ExecuteTime": {
     "end_time": "2019-07-15T19:26:11.686160Z",
     "start_time": "2019-07-15T19:26:11.676132Z"
    }
   },
   "outputs": [],
   "source": [
    "# lets have a look at the loss and acc of the model for train and val dataset\n",
    "def plot_model_perf(history):\n",
    "    # keys are hard to remmeber\n",
    "    print(history.history.keys())\n",
    "    \n",
    "    # summarize history for different accuracies\n",
    "    plt.plot(history.history['af_model_acc'])\n",
    "    plt.plot(history.history['val_af_model_acc'])\n",
    "    plt.title('animal vs fruit model accuracy')\n",
    "    plt.ylabel('accuracy')\n",
    "    plt.xlabel('epoch')\n",
    "    plt.legend(['train', 'test'], loc='upper left')\n",
    "    plt.show()\n",
    "\n",
    "    plt.plot(history.history['class4_model_acc'])\n",
    "    plt.plot(history.history['val_class4_model_acc'])\n",
    "    plt.title('4 class model accuracy')\n",
    "    plt.ylabel('accuracy')\n",
    "    plt.xlabel('epoch')\n",
    "    plt.legend(['train', 'test'], loc='upper left')\n",
    "    plt.show()\n",
    "    \n",
    "    # summarize history for losses\n",
    "    plt.plot(history.history['af_model_loss'])\n",
    "    plt.plot(history.history['val_af_model_loss'])\n",
    "    plt.title('animal vs fruit model loss')\n",
    "    plt.ylabel('loss')\n",
    "    plt.xlabel('epoch')\n",
    "    plt.legend(['train', 'test'], loc='upper left')\n",
    "    plt.show()\n",
    "    \n",
    "    plt.plot(history.history['class4_model_loss'])\n",
    "    plt.plot(history.history['val_class4_model_loss'])\n",
    "    plt.title('4 class model loss')\n",
    "    plt.ylabel('loss')\n",
    "    plt.xlabel('epoch')\n",
    "    plt.legend(['train', 'test'], loc='upper left')\n",
    "    plt.show()"
   ]
  },
  {
   "cell_type": "code",
   "execution_count": 13,
   "metadata": {
    "ExecuteTime": {
     "end_time": "2019-07-15T19:26:12.240042Z",
     "start_time": "2019-07-15T19:26:11.688167Z"
    }
   },
   "outputs": [
    {
     "name": "stdout",
     "output_type": "stream",
     "text": [
      "dict_keys(['val_loss', 'val_af_model_loss', 'val_class4_model_loss', 'val_af_model_acc', 'val_class4_model_acc', 'loss', 'af_model_loss', 'class4_model_loss', 'af_model_acc', 'class4_model_acc'])\n"
     ]
    },
    {
     "data": {
      "image/png": "[encoded data removed]",
      "text/plain": [
       "<Figure size 432x288 with 1 Axes>"
      ]
     },
     "metadata": {
      "needs_background": "light"
     },
     "output_type": "display_data"
    },
    {
     "data": {
      "image/png": "[encoded data removed]",
      "text/plain": [
       "<Figure size 432x288 with 1 Axes>"
      ]
     },
     "metadata": {
      "needs_background": "light"
     },
     "output_type": "display_data"
    },
    {
     "data": {
      "image/png": "[encoded data removed]",
      "text/plain": [
       "<Figure size 432x288 with 1 Axes>"
      ]
     },
     "metadata": {
      "needs_background": "light"
     },
     "output_type": "display_data"
    },
    {
     "data": {
      "image/png": "[encoded data removed]",
      "text/plain": [
       "<Figure size 432x288 with 1 Axes>"
      ]
     },
     "metadata": {
      "needs_background": "light"
     },
     "output_type": "display_data"
    }
   ],
   "source": [
    "plot_model_perf(history)"
   ]
  },
  {
   "cell_type": "markdown",
   "metadata": {
    "heading_collapsed": true
   },
   "source": [
    "### The end"
   ]
  }
 ],
 "metadata": {
  "kernelspec": {
   "display_name": "Python 3",
   "language": "python",
   "name": "python3"
  },
  "language_info": {
   "codemirror_mode": {
    "name": "ipython",
    "version": 3
   },
   "file_extension": ".py",
   "mimetype": "text/x-python",
   "name": "python",
   "nbconvert_exporter": "python",
   "pygments_lexer": "ipython3",
   "version": "3.6.7"
  }
 },
 "nbformat": 4,
 "nbformat_minor": 2
}
